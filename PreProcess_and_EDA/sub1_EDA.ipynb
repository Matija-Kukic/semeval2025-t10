{
 "cells": [
  {
   "cell_type": "markdown",
   "id": "0c7d73ce-d859-4361-abf3-f74dbb85e62c",
   "metadata": {},
   "source": [
    "# EDA\n",
    "\n",
    "### This notebook contains some exploratory data analysis for the first subtask.\n",
    "\n",
    "Firstly, we find where we stored merged data. This was done with a merge script in this folder."
   ]
  },
  {
   "cell_type": "code",
   "execution_count": 1,
   "id": "0959689f-145f-43d1-a859-7eee00c3c91f",
   "metadata": {},
   "outputs": [
    {
     "name": "stdout",
     "output_type": "stream",
     "text": [
      "c:\\ml\\semeval2025-t10\\merged_data/subtask1.parquet\n"
     ]
    }
   ],
   "source": [
    "from pathlib import Path\n",
    "wd = Path.cwd()\n",
    "wd = wd.parent\n",
    "wd = wd / 'merged_data' \n",
    "sub1 = str(wd) + '/subtask1.parquet'\n",
    "print(sub1)"
   ]
  },
  {
   "cell_type": "markdown",
   "id": "ab8b5e58-45a3-49d6-98c9-1f2f61d160b0",
   "metadata": {},
   "source": [
    "Let's see some data rows"
   ]
  },
  {
   "cell_type": "code",
   "execution_count": 2,
   "id": "5386d80a-82ea-4cc2-b7f8-bdc21aba9168",
   "metadata": {},
   "outputs": [
    {
     "data": {
      "text/plain": [
       "<bound method DataFrame.aggregate of      lang         art_name             entity start   end       class1  \\\n",
       "0      BG       BG_670.txt              Запад   152   156   Antagonist   \n",
       "1      BG       BG_670.txt                САЩ   530   532   Antagonist   \n",
       "2      BG       BG_670.txt               НАТО   535   538   Antagonist   \n",
       "3      BG       BG_670.txt            Украйна   578   584   Antagonist   \n",
       "4      BG       BG_670.txt  украински войници   633   649     Innocent   \n",
       "...   ...              ...                ...   ...   ...          ...   \n",
       "2897   RU  RU-URW-1156.txt            Россией   559   565  Protagonist   \n",
       "2898   RU  RU-URW-1156.txt             Москва  1005  1010  Protagonist   \n",
       "2899   RU  RU-URW-1156.txt               НАТО  1298  1301   Antagonist   \n",
       "2900   RU  RU-URW-1156.txt             Киевом  1948  1953   Antagonist   \n",
       "2901   RU  RU-URW-1113.txt    Дмитрия Гордона   133   147   Antagonist   \n",
       "\n",
       "                                          classes2  \\\n",
       "0     [Conspirator, Instigator, Foreign Adversary]   \n",
       "1                                     [Instigator]   \n",
       "2                                     [Instigator]   \n",
       "3                              [Foreign Adversary]   \n",
       "4                                         [Victim]   \n",
       "...                                            ...   \n",
       "2897                                  [Peacemaker]   \n",
       "2898                                    [Guardian]   \n",
       "2899                           [Foreign Adversary]   \n",
       "2900                                   [Terrorist]   \n",
       "2901                                  [Instigator]   \n",
       "\n",
       "                                                   text  \n",
       "0     Опитът на колективния Запад да „обезкърви Руси...  \n",
       "1     Опитът на колективния Запад да „обезкърви Руси...  \n",
       "2     Опитът на колективния Запад да „обезкърви Руси...  \n",
       "3     Опитът на колективния Запад да „обезкърви Руси...  \n",
       "4     Опитът на колективния Запад да „обезкърви Руси...  \n",
       "...                                                 ...  \n",
       "2897  Медведев: Даже в случае признания поражения Ки...  \n",
       "2898  Медведев: Даже в случае признания поражения Ки...  \n",
       "2899  Медведев: Даже в случае признания поражения Ки...  \n",
       "2900  Медведев: Даже в случае признания поражения Ки...  \n",
       "2901  Эпизоды с призывами «убить Путина» нашли в дел...  \n",
       "\n",
       "[2902 rows x 8 columns]>"
      ]
     },
     "execution_count": 2,
     "metadata": {},
     "output_type": "execute_result"
    }
   ],
   "source": [
    "import pandas as pd\n",
    "df = pd.read_parquet(sub1)\n",
    "#df.head(n=20)\n",
    "df.aggregate"
   ]
  },
  {
   "cell_type": "markdown",
   "id": "b73a790d-2f43-4599-abe6-9afe8078b963",
   "metadata": {},
   "source": [
    "## Our tasks\n",
    "\n",
    "### Multiclass labeling \n",
    "\n",
    "Firstly we need to label each named entity with a label protagonist, antagonist or innocent.\n",
    "Let's look at the distribution of each label in the whole dataset."
   ]
  },
  {
   "cell_type": "code",
   "execution_count": 3,
   "id": "bdc168fb-bb87-46f6-a9d0-4138aec41c09",
   "metadata": {},
   "outputs": [
    {
     "name": "stdout",
     "output_type": "stream",
     "text": [
      "class1\n",
      "Antagonist     1422\n",
      "Protagonist     852\n",
      "Innocent        628\n",
      "Name: count, dtype: int64\n"
     ]
    },
    {
     "data": {
      "text/plain": [
       "Text(0.5, 1.0, 'Bar Graph of Label Counts')"
      ]
     },
     "execution_count": 3,
     "metadata": {},
     "output_type": "execute_result"
    },
    {
     "data": {
      "image/png": "[encoded data removed]",
      "text/plain": [
       "<Figure size 640x480 with 1 Axes>"
      ]
     },
     "metadata": {},
     "output_type": "display_data"
    }
   ],
   "source": [
    "import matplotlib.pyplot as plt\n",
    "label_counts = df['class1'].value_counts()\n",
    "print(label_counts)\n",
    "label_counts.plot(kind='bar', color='blue')\n",
    "plt.xlabel('Labels',)\n",
    "plt.ylabel('Count')\n",
    "plt.title('Bar Graph of Label Counts')"
   ]
  },
  {
   "cell_type": "markdown",
   "id": "d8ef7371",
   "metadata": {},
   "source": [
    "Just to keep in mind, unbalanced distribution of labels could badly influence our models' training and generalization."
   ]
  },
  {
   "cell_type": "markdown",
   "id": "10a06df1-5254-41c9-a34c-256daaf63819",
   "metadata": {},
   "source": [
    "#### The dataset contains 5 languages. Let's se the distribution of labels in each category.\n",
    "#### Also we will view how much data we have representing every language.\n",
    "Firstly data entries per languge."
   ]
  },
  {
   "cell_type": "code",
   "execution_count": 4,
   "id": "f727ebd9-a909-492f-ae45-6f9b1441622e",
   "metadata": {},
   "outputs": [
    {
     "name": "stdout",
     "output_type": "stream",
     "text": [
      "lang\n",
      "BG    448\n",
      "Name: count, dtype: int64 lang\n",
      "EN    414\n",
      "Name: count, dtype: int64 lang\n",
      "HI    928\n",
      "Name: count, dtype: int64 lang\n",
      "PT    745\n",
      "Name: count, dtype: int64 lang\n",
      "RU    367\n",
      "Name: count, dtype: int64\n"
     ]
    },
    {
     "data": {
      "text/plain": [
       "<BarContainer object of 5 artists>"
      ]
     },
     "execution_count": 4,
     "metadata": {},
     "output_type": "execute_result"
    },
    {
     "data": {
      "image/png": "[encoded data removed]",
      "text/plain": [
       "<Figure size 640x480 with 1 Axes>"
      ]
     },
     "metadata": {},
     "output_type": "display_data"
    }
   ],
   "source": [
    "df_bg = df[ df['lang'] == 'BG']\n",
    "df_en = df[ df['lang'] == 'EN']\n",
    "df_hi = df[ df['lang'] == 'HI']\n",
    "df_pt = df[ df['lang'] == 'PT']\n",
    "df_ru = df[ df['lang'] == 'RU']\n",
    "x = [\"BG\", \"EN\", \"HI\", \"PT\", \"RU\"]\n",
    "y = [len(df_bg), len(df_en), len(df_hi), len(df_pt), len(df_ru)]\n",
    "print(df_bg['lang'].value_counts(),\n",
    "df_en['lang'].value_counts(),\n",
    "df_hi['lang'].value_counts(),\n",
    "df_pt['lang'].value_counts(),\n",
    "df_ru['lang'].value_counts())\n",
    "plt.bar(x, y, width=0.5, color='purple')"
   ]
  },
  {
   "cell_type": "markdown",
   "id": "59fd964c-ed71-4f9f-b1b3-144bef945c79",
   "metadata": {},
   "source": [
    "## Labels per country and category"
   ]
  },
  {
   "cell_type": "code",
   "execution_count": 5,
   "id": "7e82c877-918f-4f29-a7df-1653dd8637e5",
   "metadata": {},
   "outputs": [
    {
     "data": {
      "image/png": "[encoded data removed]",
      "text/plain": [
       "<Figure size 1000x600 with 1 Axes>"
      ]
     },
     "metadata": {},
     "output_type": "display_data"
    }
   ],
   "source": [
    "count_bg = df_bg['class1'].value_counts()\n",
    "count_en = df_en['class1'].value_counts()\n",
    "count_hi = df_hi['class1'].value_counts()\n",
    "count_pt = df_pt['class1'].value_counts()\n",
    "count_ru = df_ru['class1'].value_counts()\n",
    "\n",
    "counts_df = pd.DataFrame({\n",
    "    'BG': count_bg,\n",
    "    'EN': count_en,\n",
    "    'HI': count_hi,\n",
    "    'PT': count_pt,\n",
    "    'RU': count_ru\n",
    "}).fillna(0)  \n",
    "ax = counts_df.plot(kind='bar', width=0.8, figsize=(10, 6))\n",
    "\n",
    "plt.xlabel('Class1 Labels')\n",
    "plt.ylabel('Counts')\n",
    "plt.title('Counts of Class1 Labels in Each Language')\n",
    "plt.xticks(rotation=45)  \n",
    "\n",
    "plt.show()"
   ]
  },
  {
   "cell_type": "code",
   "execution_count": 6,
   "id": "144c7f16-15bf-4afc-870b-1596ede3d335",
   "metadata": {},
   "outputs": [
    {
     "name": "stdout",
     "output_type": "stream",
     "text": [
      "class1\n",
      "Antagonist     0.649554\n",
      "Innocent       0.232143\n",
      "Protagonist    0.118304\n",
      "Name: count, dtype: float64 class1\n",
      "Antagonist     0.637681\n",
      "Protagonist    0.248792\n",
      "Innocent       0.113527\n",
      "Name: count, dtype: float64 class1\n",
      "Antagonist     0.382543\n",
      "Protagonist    0.380388\n",
      "Innocent       0.237069\n",
      "Name: count, dtype: float64 class1\n",
      "Antagonist     0.434899\n",
      "Protagonist    0.306040\n",
      "Innocent       0.259060\n",
      "Name: count, dtype: float64 class1\n",
      "Antagonist     0.512262\n",
      "Protagonist    0.313351\n",
      "Innocent       0.174387\n",
      "Name: count, dtype: float64\n"
     ]
    },
    {
     "data": {
      "image/png": "[encoded data removed]",
      "text/plain": [
       "<Figure size 1000x600 with 1 Axes>"
      ]
     },
     "metadata": {},
     "output_type": "display_data"
    }
   ],
   "source": [
    "# Get value_counts for 'class1' in each DataFrame\n",
    "count_bg = df_bg['class1'].value_counts()\n",
    "count_en = df_en['class1'].value_counts()\n",
    "count_hi = df_hi['class1'].value_counts()\n",
    "count_pt = df_pt['class1'].value_counts()\n",
    "count_ru = df_ru['class1'].value_counts()\n",
    "\n",
    "# Calculate the total count of 'class1' for each language\n",
    "total_bg = df_bg['class1'].count()\n",
    "total_en = df_en['class1'].count()\n",
    "total_hi = df_hi['class1'].count()\n",
    "total_pt = df_pt['class1'].count()\n",
    "total_ru = df_ru['class1'].count()\n",
    "\n",
    "# Calculate the proportions for each label within each language\n",
    "prop_bg = count_bg / total_bg\n",
    "prop_en = count_en / total_en\n",
    "prop_hi = count_hi / total_hi\n",
    "prop_pt = count_pt / total_pt\n",
    "prop_ru = count_ru / total_ru\n",
    "\n",
    "print(prop_bg,prop_en,prop_hi,prop_pt, prop_ru)\n",
    "# Create a DataFrame to hold the proportions for each language\n",
    "prop_df = pd.DataFrame({\n",
    "    'BG': prop_bg,\n",
    "    'EN': prop_en,\n",
    "    'HI': prop_hi,\n",
    "    'PT': prop_pt,\n",
    "    'RU': prop_ru\n",
    "}).fillna(0)  # Fill NaN with 0s for missing categories\n",
    "\n",
    "# Plotting the bar plot\n",
    "ax = prop_df.plot(kind='bar', width=0.8, figsize=(10, 6))\n",
    "\n",
    "# Add labels and title\n",
    "plt.xlabel('Class1 Labels')\n",
    "plt.ylabel('Proportion of Total (for Each Language)')\n",
    "plt.title('Proportion of Class1 Labels in Each Language')\n",
    "plt.xticks(rotation=45)  # Rotate x-ticks for better visibility\n",
    "\n",
    "# Display the plot\n",
    "plt.show()"
   ]
  },
  {
   "cell_type": "markdown",
   "id": "c46ff7e4-4ada-4a09-9f91-7566ea461601",
   "metadata": {},
   "source": [
    "Classifying article as Russia-Ukraine war or climate change"
   ]
  },
  {
   "cell_type": "code",
   "execution_count": 7,
   "id": "1631e9f2-93ef-4100-a8e6-4282d034fc26",
   "metadata": {},
   "outputs": [],
   "source": [
    "import re\n",
    "climate_keywords = {\n",
    "    'EN': [\n",
    "        \"climate\", \"change\", \"warming\", \"carbon\", \"emissions\", \"greenhouse\", \"fossil\", \"pollution\", \n",
    "        \"sustainability\", \"deforestation\", \"climate justice\", \"activism\", \"accountability\", \"policy\", \n",
    "        \"impact\", \"reduction\", \"environment\", \"environmental\", \"clean energy\", \"renewable\", \"global warming\", \n",
    "        \"paris agreement\", \"cop\", \"activists\", \"debate\", \"responsibility\", \"government\", \"inaction\", \n",
    "        \"failure\", \"protest\", \"lobby\", \"oil\", \"gas\", \"corporations\", \"proposals\", \"green energy\", \n",
    "        \"eco-friendly\", \"transition\", \"scandal\", \"neglect\", \"exploitation\", \"polluters\", \"reform\", \n",
    "        \"carbon tax\", \"carbon footprint\", \"climate refugees\", \"greenwash\"\n",
    "    ],\n",
    "    'PT': [\n",
    "        \"clima\", \"mudança\", \"aquecimento\", \"carbono\", \"emissões\", \"gases\", \"fósseis\", \"poluição\", \n",
    "        \"sustentabilidade\", \"desmatamento\", \"justiça climática\", \"ativismo\", \"responsabilidade\", \"política\", \n",
    "        \"impacto\", \"redução\", \"ambiente\", \"ambiental\", \"energia limpa\", \"renovável\", \"aquecimento global\", \n",
    "        \"acordo de paris\", \"cop\", \"ativistas\", \"debate\", \"responsabilidade\", \"governo\", \"falta de ação\", \n",
    "        \"fracasso\", \"protesto\", \"lobby\", \"petróleo\", \"gás\", \"corporações\", \"propostas\", \"energia verde\", \n",
    "        \"eco-friendly\", \"transição\", \"escândalo\", \"negligência\", \"exploração\", \"poluidores\", \"reforma\", \n",
    "        \"imposto sobre carbono\", \"pegada de carbono\", \"refugiados climáticos\", \"greenwash\"\n",
    "    ],\n",
    "    'HI': [\n",
    "        \"जलवायु\", \"परिवर्तन\", \"तापन\", \"कार्बन\", \"उत्सर्जन\", \"गैस\", \"जीवाश्म\", \"प्रदूषण\", \n",
    "        \"सततता\", \"वनस्पति नाश\", \"जलवायु न्याय\", \"आंदोलन\", \"जिम्मेदारी\", \"नीति\", \n",
    "        \"प्रभाव\", \"कमी\", \"पर्यावरण\", \"पर्यावरणीय\", \"स्वच्छ ऊर्जा\", \"नवीकरणीय\", \"वैश्विक तापन\", \n",
    "        \"पेरिस समझौता\", \"सीओपी\", \"कार्यकर्ता\", \"बहस\", \"जिम्मेदारी\", \"सरकार\", \"क्रियाविहीनता\", \n",
    "        \"विफलता\", \"प्रदर्शन\", \"लॉबी\", \"तेल\", \"गैस\", \"संगठनों\", \"प्रस्ताव\", \"हरित ऊर्जा\", \n",
    "        \"इको-फ्रेंडली\", \"संक्रमण\", \"घोटाला\", \"लापरवाही\", \"शोषण\", \"प्रदूषणकर्ता\", \"सुधार\", \n",
    "        \"कार्बन कर\", \"कार्बन पदचिह्न\", \"जलवायु शरणार्थी\", \"ग्रीनवाश\"\n",
    "    ],\n",
    "    'BG': [\n",
    "        \"климат\", \"промяна\", \"затопляне\", \"въглерод\", \"емисии\", \"гази\", \"изкопаеми\", \"замърсяване\", \n",
    "        \"устойчивост\", \"изсичане на гори\", \"климатични права\", \"активизъм\", \"отговорност\", \"политика\", \n",
    "        \"въздействие\", \"намаляване\", \"околната среда\", \"екологичен\", \"чиста енергия\", \"възобновяеми\", \n",
    "        \"глобално затопляне\", \"парижко споразумение\", \"коп\", \"активисти\", \"дебат\", \"отговорност\", \n",
    "        \"правителство\", \"бездействие\", \"неуспех\", \"протест\", \"лобизъм\", \"нефт\", \"газ\", \"корпорации\", \n",
    "        \"предложения\", \"зелена енергия\", \"екологичен\", \"преход\", \"скандал\", \"пренебрежение\", \"експлоатация\", \n",
    "        \"замърсители\", \"реформа\", \"данък върху въглерод\", \"въглероден отпечатък\", \"климатични бежанци\", \"гринуош\"\n",
    "    ],\n",
    "    'RU': [\n",
    "        \"климат\", \"изменение\", \"потепление\", \"углерод\", \"выбросы\", \"парниковый\", \"ископаемое\", \"загрязнение\", \n",
    "        \"устойчивость\", \"вырубка лесов\", \"климатическая справедливость\", \"активизм\", \"ответственность\", \"политика\", \n",
    "        \"влияние\", \"сокращение\", \"окружающая среда\", \"экологический\", \"чистая энергия\", \"возобновляемая\", \"глобальное потепление\", \n",
    "        \"Парижское соглашение\", \"COP\", \"активисты\", \"дебаты\", \"ответственность\", \"правительство\", \"бездействие\", \n",
    "        \"провал\", \"протест\", \"лоббизм\", \"нефть\", \"газ\", \"корпорации\", \"предложения\", \"зеленая энергия\", \n",
    "        \"экологичный\", \"переход\", \"скандал\", \"пренебрежение\", \"эксплуатация\", \"загрязнители\", \"реформа\", \n",
    "        \"углеродный налог\", \"углеродный след\", \"климатические беженцы\", \"гринвошинг\"\n",
    "    ]\n",
    "}\n",
    "\n",
    "war_keywords = {\n",
    "    'EN': [\n",
    "        \"russia\", \"ukraine\", \"war\", \"invasion\", \"conflict\", \"putin\", \"zelensky\", \n",
    "        \"nato\", \"donbas\", \"crimea\", \"sanctions\", \"military\", \"refugees\", \n",
    "        \"ceasefire\", \"frontline\", \"troops\", \"resistance\", \"bombing\", \n",
    "        \"artillery\", \"territory\", \"proxy\", \"east\", \"donetsk\", \n",
    "        \"luhansk\", \"kyiv\", \"mariupol\", \"offensive\", \"battle\", \"strategy\", \n",
    "        \"counteroffensive\", \"occupation\", \"defense\", \"peace\", \"forces\", \n",
    "        \"army\", \"airstrike\", \"aid\", \"crimes\", \"skirmishes\", \n",
    "        \"battlefield\", \"separatists\", \"allies\", \"supply\", \"defense\", \n",
    "        \"shelters\", \"peacekeeping\", \"crisis\", \"drills\"\n",
    "    ],\n",
    "    'PT': [\n",
    "        \"rússia\", \"ucrânia\", \"guerra\", \"invasão\", \"conflito\", \"putin\", \"zelensky\", \n",
    "        \"otan\", \"donbas\", \"crimeia\", \"sanções\", \"militar\", \"refugiados\", \n",
    "        \"cessar-fogo\", \"frente\", \"tropas\", \"resistência\", \"bombardeio\", \n",
    "        \"artilharia\", \"територия\", \"procurador\", \"leste\", \"donetsk\", \n",
    "        \"lugansk\", \"kiev\", \"mariupol\", \"ofensiva\", \"batalha\", \"estratégia\", \n",
    "        \"contraofensiva\", \"ocupação\", \"defesa\", \"paz\", \"forças\", \n",
    "        \"exército\", \"ataque\", \"ajuda\", \"crimes\", \"escaramuças\", \n",
    "        \"campo\", \"separatistas\", \"aliados\", \"fornecimento\", \"defesa\", \n",
    "        \"abrigo\", \"manutenção\", \"crise\", \"exercícios\"\n",
    "    ],\n",
    "    'HI': [\n",
    "        \"रूस\", \"यूक्रेन\", \"युद्ध\", \"आक्रमण\", \"संघर्ष\", \"पुतिन\", \"जेलेंस्की\", \n",
    "        \"नाटो\", \"डोनबास\", \"क्रीमिया\", \"प्रतिबंध\", \"सैन्य\", \"शरणार्थी\", \n",
    "        \"युद्धविराम\", \"अग्रिम\", \"सैन्य\", \"प्रतिकार\", \"बमबारी\", \n",
    "        \"तोपख़ाना\", \"क्षेत्र\", \"प्रॉक्सी\", \"पूर्व\", \"डोनेट्स्क\", \n",
    "        \"लुहान्स्क\", \"कीव\", \"मारियुपोल\", \"आक्रमण\", \"युद्ध\", \"रणनीति\", \n",
    "        \"काउंटरऑफेंसिव\", \"आधिपत्य\", \"रक्षा\", \"शांति\", \"बल\", \n",
    "        \"सेना\", \"एयरस्ट्राइक\", \"सैन्य\", \"अपराध\", \"झड़प\", \n",
    "        \"युद्धक्षेत्र\", \"विभाजनकारी\", \"सहयोगी\", \"सप्लाई\", \"रक्षा\", \n",
    "        \"शेल्टर\", \"शांति\", \"संकट\", \"अभ्यास\"\n",
    "    ],\n",
    "    'BG': [\n",
    "        \"русия\", \"украйна\", \"война\", \"нападение\", \"конфликт\", \"путин\", \"зелински\", \n",
    "        \"нато\", \"донбас\", \"крим\", \"санкции\", \"военен\", \"бежанци\", \n",
    "        \"прекратяване\", \"фронт\", \"войски\", \"съпротива\", \"бомбардировки\", \n",
    "        \"артилерия\", \"територия\", \"прокси\", \"изток\", \"донецк\", \n",
    "        \"луганск\", \"киев\", \"мариупол\", \"офанзива\", \"битка\", \"стратегия\", \n",
    "        \"контраофанзива\", \"окупация\", \"отбрана\", \"мир\", \"сили\", \n",
    "        \"армия\", \"въздушен\", \"помощ\", \"престъпления\", \"сблъсъци\", \n",
    "        \"бойно\", \"сепаратисти\", \"съюзници\", \"доставки\", \"отбрана\", \n",
    "        \"укрития\", \"миротворчество\", \"криза\", \"упражнения\"\n",
    "    ],\n",
    "    'RU': [\n",
    "        \"россия\", \"украина\", \"война\", \"вторжение\", \"конфликт\", \"путин\", \"зеленский\", \n",
    "        \"нато\", \"донбасс\", \"крым\", \"санкции\", \"военные\", \"беженцы\", \n",
    "        \"перемирие\", \"передовая\", \"войска\", \"сопротивление\", \"бомбардировка\", \n",
    "        \"артиллерия\", \"территория\", \"прокси\", \"восток\", \"донецк\", \n",
    "        \"луганск\", \"киев\", \"мариуполь\", \"наступление\", \"битва\", \"стратегия\", \n",
    "        \"контрнаступление\", \"оккупация\", \"оборона\", \"мир\", \"силы\", \n",
    "        \"армия\", \"авиаудар\", \"помощь\", \"преступления\", \"перестрелки\", \n",
    "        \"поле боя\", \"сепаратисты\", \"союзники\", \"снабжение\", \"защита\", \n",
    "        \"убежища\", \"миротворцы\", \"кризис\", \"учения\"\n",
    "    ]\n",
    "}\n",
    "def determineType(row):\n",
    "    text = str(row['text'])\n",
    "    text = text.lower().strip().replace('\\n','')\n",
    "    clean_text = re.sub(r'[^\\w\\s]', '', text)\n",
    "    cc, ru = 0, 0\n",
    "    \n",
    "    for z in text.split(' '):\n",
    "        if z in climate_keywords[row['lang']]:\n",
    "            cc+=1\n",
    "        if z in war_keywords[row['lang']]:\n",
    "            ru+=1\n",
    "    if cc > 0 and ru == 0:\n",
    "        return \"Climate change\"\n",
    "    elif cc == 0 and ru > 0:\n",
    "        return \"War\"\n",
    "    elif cc == 0 and ru == 0:\n",
    "        return \"None error\"\n",
    "    elif cc > 0 and ru > 0:\n",
    "        return \"Inconclusive error\"\n",
    "\n",
    "df['artCat'] = df.apply(determineType,axis=1)\n"
   ]
  },
  {
   "cell_type": "code",
   "execution_count": 8,
   "id": "cf772fc7-3477-4a44-939f-062c275191ba",
   "metadata": {},
   "outputs": [
    {
     "name": "stdout",
     "output_type": "stream",
     "text": [
      "artCat\n",
      "Inconclusive error    1507\n",
      "War                   1179\n",
      "Climate change         138\n",
      "None error              78\n",
      "Name: count, dtype: int64\n"
     ]
    },
    {
     "data": {
      "text/plain": [
       "Text(0.5, 1.0, 'Bar Graph of Label Counts')"
      ]
     },
     "execution_count": 8,
     "metadata": {},
     "output_type": "execute_result"
    },
    {
     "data": {
      "image/png": "[encoded data removed]",
      "text/plain": [
       "<Figure size 640x480 with 1 Axes>"
      ]
     },
     "metadata": {},
     "output_type": "display_data"
    }
   ],
   "source": [
    "df.aggregate\n",
    "label_counts = df['artCat'].value_counts()\n",
    "print(label_counts)\n",
    "label_counts.plot(kind='bar', color='blue')\n",
    "plt.xlabel('Labels',)\n",
    "plt.ylabel('Count')\n",
    "plt.title('Bar Graph of Label Counts')"
   ]
  },
  {
   "cell_type": "markdown",
   "id": "b40dfc06",
   "metadata": {},
   "source": [
    "## Analysis of distance between spans in the same text"
   ]
  },
  {
   "cell_type": "markdown",
   "id": "5e3dfa1c",
   "metadata": {},
   "source": [
    "### Analysis for EN\n",
    "Here is a short analysis of size of the input text, number of spans per text, as well as distance between spans in the same text."
   ]
  },
  {
   "cell_type": "code",
   "execution_count": 9,
   "id": "44f4fa89",
   "metadata": {},
   "outputs": [
    {
     "name": "stdout",
     "output_type": "stream",
     "text": [
      "             art_name  min_distance  max_distance  mean_distance  \\\n",
      "0    EN_CC_100002.txt           NaN           NaN            NaN   \n",
      "1    EN_CC_100003.txt         905.0         905.0          905.0   \n",
      "2    EN_CC_100004.txt         231.0        2146.0         1188.5   \n",
      "3    EN_CC_100005.txt        1941.0        1941.0         1941.0   \n",
      "4    EN_CC_100012.txt         439.0        1282.0          853.0   \n",
      "..                ...           ...           ...            ...   \n",
      "101  EN_UA_103995.txt        2207.0        2207.0         2207.0   \n",
      "102  EN_UA_104434.txt           NaN           NaN            NaN   \n",
      "103  EN_UA_104523.txt           NaN           NaN            NaN   \n",
      "104  EN_UA_104859.txt         282.0         282.0          282.0   \n",
      "105  EN_UA_104876.txt        2202.0        2202.0         2202.0   \n",
      "\n",
      "     stddev_distance  text_length  span_count  \n",
      "0                NaN         2800           1  \n",
      "1                NaN         2396           2  \n",
      "2        1354.109486         4346           3  \n",
      "3                NaN         3776           2  \n",
      "4         344.448109         4939           6  \n",
      "..               ...          ...         ...  \n",
      "101              NaN         3012           2  \n",
      "102              NaN         4530           1  \n",
      "103              NaN         3762           1  \n",
      "104              NaN         4754           2  \n",
      "105              NaN         3249           2  \n",
      "\n",
      "[106 rows x 7 columns]\n",
      "Mean of number of spans per text:  3.9056603773584904\n",
      "Median of number of spans per text:  3.0\n",
      "Mean of distances in all texts (ignoring span_count=1):  589.0113587030253\n"
     ]
    },
    {
     "name": "stderr",
     "output_type": "stream",
     "text": [
      "C:\\Users\\cvita\\AppData\\Local\\Temp\\ipykernel_17600\\3802205066.py:1: SettingWithCopyWarning: \n",
      "A value is trying to be set on a copy of a slice from a DataFrame.\n",
      "Try using .loc[row_indexer,col_indexer] = value instead\n",
      "\n",
      "See the caveats in the documentation: https://pandas.pydata.org/pandas-docs/stable/user_guide/indexing.html#returning-a-view-versus-a-copy\n",
      "  df_en[\"start\"] = df_en[\"start\"].astype(int)\n",
      "C:\\Users\\cvita\\AppData\\Local\\Temp\\ipykernel_17600\\3802205066.py:2: SettingWithCopyWarning: \n",
      "A value is trying to be set on a copy of a slice from a DataFrame.\n",
      "Try using .loc[row_indexer,col_indexer] = value instead\n",
      "\n",
      "See the caveats in the documentation: https://pandas.pydata.org/pandas-docs/stable/user_guide/indexing.html#returning-a-view-versus-a-copy\n",
      "  df_en[\"end\"] = df_en[\"end\"].astype(int)\n"
     ]
    }
   ],
   "source": [
    "df_en[\"start\"] = df_en[\"start\"].astype(int)\n",
    "df_en[\"end\"] = df_en[\"end\"].astype(int)\n",
    "df_en_spanEDA = df_en.sort_values(by=[\"art_name\", \"start\"])\n",
    "\n",
    "df_en_spanEDA['inter_span_distance'] = df_en_spanEDA.groupby('art_name')['start'].shift(0) - df_en_spanEDA.groupby('art_name')['end'].shift(1)\n",
    "\n",
    "summary = df_en_spanEDA.groupby('art_name').agg(\n",
    "    min_distance=('inter_span_distance', 'min'),\n",
    "    max_distance=('inter_span_distance', 'max'),\n",
    "    mean_distance=('inter_span_distance', 'mean'),\n",
    "    stddev_distance=('inter_span_distance', 'std'),\n",
    "    text_length=('text', lambda x: len(x.iloc[0])),\n",
    "    span_count=('start', 'size')\n",
    ").reset_index()\n",
    "\n",
    "print(summary)\n",
    "print(\"Mean of number of spans per text: \", summary[\"span_count\"].mean())\n",
    "print(\"Median of number of spans per text: \", summary[\"span_count\"].median())\n",
    "\n",
    "print(\"Mean of distances in all texts (ignoring span_count=1): \", summary[\"mean_distance\"].mean())\n"
   ]
  },
  {
   "cell_type": "markdown",
   "id": "552220b8",
   "metadata": {},
   "source": [
    "### Analysis for all languages - Merged data"
   ]
  },
  {
   "cell_type": "code",
   "execution_count": 10,
   "id": "7bc40f78",
   "metadata": {},
   "outputs": [
    {
     "name": "stdout",
     "output_type": "stream",
     "text": [
      "Note that distance is in measured characters.\n",
      "Mean of inter-span-distance per text (EN):  589.0113587030253\n",
      "Mean of inter-span-distance per text (BG):  400.7693400167085\n",
      "Mean of inter-span-distance per text (PT):  400.2011798398627\n",
      "Mean of inter-span-distance per text (HI):  334.4759136198717\n",
      "Mean of inter-span-distance per text (RU):  316.038596491228\n",
      "Mean of distances in all texts (ignoring span_count=1):  401.0842290156308\n"
     ]
    }
   ],
   "source": [
    "df[\"start\"] = df[\"start\"].astype(int)\n",
    "df[\"end\"] = df[\"end\"].astype(int)\n",
    "df_spanDA = df.sort_values(by=[\"art_name\", \"lang\", \"start\"])\n",
    "\n",
    "df_spanDA['inter_span_distance'] = df_spanDA.groupby('art_name')['start'].shift(0) - df_spanDA.groupby('art_name')['end'].shift(1)\n",
    "\n",
    "summary = df_spanDA.groupby(['art_name', 'lang']).agg(\n",
    "    min_distance=('inter_span_distance', 'min'),\n",
    "    max_distance=('inter_span_distance', 'max'),\n",
    "    mean_distance=('inter_span_distance', 'mean'),\n",
    "    stddev_distance=('inter_span_distance', 'std'),\n",
    "    text_length=('text', lambda x: len(x.iloc[0])),\n",
    "    span_count=('start', 'size')\n",
    ").reset_index()\n",
    "\n",
    "#print(summary)\n",
    "print(\"Note that distance is in measured characters.\")\n",
    "print(\"Mean of inter-span-distance per text (EN): \", summary.loc[summary[\"lang\"] == \"EN\", \"mean_distance\"].mean())\n",
    "print(\"Mean of inter-span-distance per text (BG): \", summary.loc[summary[\"lang\"] == \"BG\", \"mean_distance\"].mean())\n",
    "print(\"Mean of inter-span-distance per text (PT): \", summary.loc[summary[\"lang\"] == \"PT\", \"mean_distance\"].mean())\n",
    "print(\"Mean of inter-span-distance per text (HI): \", summary.loc[summary[\"lang\"] == \"HI\", \"mean_distance\"].mean())\n",
    "print(\"Mean of inter-span-distance per text (RU): \", summary.loc[summary[\"lang\"] == \"RU\", \"mean_distance\"].mean())\n",
    "\n",
    "print(\"Mean of distances in all texts (ignoring span_count=1): \", summary[\"mean_distance\"].mean())\n",
    "\n",
    "#TO DO\n",
    "#min and max values\n",
    "#distance in nr. of words says more, as our tokenizer tokenize by words, this should be relevant for the input length\n"
   ]
  },
  {
   "cell_type": "markdown",
   "id": "c28b307b",
   "metadata": {},
   "source": [
    "## Analysis of entities that often occur\n",
    "TO DO: exploration for NEs like Russia, Ukraine, other entities that often occur ... does the article language influence the label that is given?\n",
    "\n",
    "Russian dataset includes only Russia-Ukraine War articles."
   ]
  },
  {
   "cell_type": "code",
   "execution_count": 11,
   "id": "2d2ddfb7",
   "metadata": {},
   "outputs": [
    {
     "name": "stdout",
     "output_type": "stream",
     "text": [
      "English DataFrame Counts:\n"
     ]
    },
    {
     "data": {
      "text/html": [
       "<style type=\"text/css\">\n",
       "</style>\n",
       "<table id=\"T_35c7d\">\n",
       "  <caption>English articles/mention: Russia</caption>\n",
       "  <thead>\n",
       "    <tr>\n",
       "      <th class=\"blank level0\" >&nbsp;</th>\n",
       "      <th id=\"T_35c7d_level0_col0\" class=\"col_heading level0 col0\" >Class1</th>\n",
       "      <th id=\"T_35c7d_level0_col1\" class=\"col_heading level0 col1\" >Count</th>\n",
       "    </tr>\n",
       "  </thead>\n",
       "  <tbody>\n",
       "    <tr>\n",
       "      <th id=\"T_35c7d_level0_row0\" class=\"row_heading level0 row0\" >0</th>\n",
       "      <td id=\"T_35c7d_row0_col0\" class=\"data row0 col0\" >Antagonist</td>\n",
       "      <td id=\"T_35c7d_row0_col1\" class=\"data row0 col1\" >26</td>\n",
       "    </tr>\n",
       "    <tr>\n",
       "      <th id=\"T_35c7d_level0_row1\" class=\"row_heading level0 row1\" >1</th>\n",
       "      <td id=\"T_35c7d_row1_col0\" class=\"data row1 col0\" >Innocent</td>\n",
       "      <td id=\"T_35c7d_row1_col1\" class=\"data row1 col1\" >7</td>\n",
       "    </tr>\n",
       "    <tr>\n",
       "      <th id=\"T_35c7d_level0_row2\" class=\"row_heading level0 row2\" >2</th>\n",
       "      <td id=\"T_35c7d_row2_col0\" class=\"data row2 col0\" >Protagonist</td>\n",
       "      <td id=\"T_35c7d_row2_col1\" class=\"data row2 col1\" >11</td>\n",
       "    </tr>\n",
       "  </tbody>\n",
       "</table>\n"
      ],
      "text/plain": [
       "<pandas.io.formats.style.Styler at 0x260efd1b140>"
      ]
     },
     "metadata": {},
     "output_type": "display_data"
    },
    {
     "name": "stdout",
     "output_type": "stream",
     "text": [
      "\n",
      "Russian DataFrame Counts:\n"
     ]
    },
    {
     "data": {
      "text/html": [
       "<style type=\"text/css\">\n",
       "</style>\n",
       "<table id=\"T_63398\">\n",
       "  <caption>Russian articles/mention: Russia</caption>\n",
       "  <thead>\n",
       "    <tr>\n",
       "      <th class=\"blank level0\" >&nbsp;</th>\n",
       "      <th id=\"T_63398_level0_col0\" class=\"col_heading level0 col0\" >Class1</th>\n",
       "      <th id=\"T_63398_level0_col1\" class=\"col_heading level0 col1\" >Count</th>\n",
       "    </tr>\n",
       "  </thead>\n",
       "  <tbody>\n",
       "    <tr>\n",
       "      <th id=\"T_63398_level0_row0\" class=\"row_heading level0 row0\" >0</th>\n",
       "      <td id=\"T_63398_row0_col0\" class=\"data row0 col0\" >Antagonist</td>\n",
       "      <td id=\"T_63398_row0_col1\" class=\"data row0 col1\" >1</td>\n",
       "    </tr>\n",
       "    <tr>\n",
       "      <th id=\"T_63398_level0_row1\" class=\"row_heading level0 row1\" >1</th>\n",
       "      <td id=\"T_63398_row1_col0\" class=\"data row1 col0\" >Innocent</td>\n",
       "      <td id=\"T_63398_row1_col1\" class=\"data row1 col1\" >6</td>\n",
       "    </tr>\n",
       "    <tr>\n",
       "      <th id=\"T_63398_level0_row2\" class=\"row_heading level0 row2\" >2</th>\n",
       "      <td id=\"T_63398_row2_col0\" class=\"data row2 col0\" >Protagonist</td>\n",
       "      <td id=\"T_63398_row2_col1\" class=\"data row2 col1\" >7</td>\n",
       "    </tr>\n",
       "  </tbody>\n",
       "</table>\n"
      ],
      "text/plain": [
       "<pandas.io.formats.style.Styler at 0x260f1e50b00>"
      ]
     },
     "metadata": {},
     "output_type": "display_data"
    },
    {
     "name": "stdout",
     "output_type": "stream",
     "text": [
      "English DataFrame Counts:\n"
     ]
    },
    {
     "data": {
      "text/html": [
       "<style type=\"text/css\">\n",
       "</style>\n",
       "<table id=\"T_87c85\">\n",
       "  <caption>English articles/mention: Ukraine</caption>\n",
       "  <thead>\n",
       "    <tr>\n",
       "      <th class=\"blank level0\" >&nbsp;</th>\n",
       "      <th id=\"T_87c85_level0_col0\" class=\"col_heading level0 col0\" >Class1</th>\n",
       "      <th id=\"T_87c85_level0_col1\" class=\"col_heading level0 col1\" >Count</th>\n",
       "    </tr>\n",
       "  </thead>\n",
       "  <tbody>\n",
       "    <tr>\n",
       "      <th id=\"T_87c85_level0_row0\" class=\"row_heading level0 row0\" >0</th>\n",
       "      <td id=\"T_87c85_row0_col0\" class=\"data row0 col0\" >Antagonist</td>\n",
       "      <td id=\"T_87c85_row0_col1\" class=\"data row0 col1\" >5</td>\n",
       "    </tr>\n",
       "    <tr>\n",
       "      <th id=\"T_87c85_level0_row1\" class=\"row_heading level0 row1\" >1</th>\n",
       "      <td id=\"T_87c85_row1_col0\" class=\"data row1 col0\" >Innocent</td>\n",
       "      <td id=\"T_87c85_row1_col1\" class=\"data row1 col1\" >12</td>\n",
       "    </tr>\n",
       "    <tr>\n",
       "      <th id=\"T_87c85_level0_row2\" class=\"row_heading level0 row2\" >2</th>\n",
       "      <td id=\"T_87c85_row2_col0\" class=\"data row2 col0\" >Protagonist</td>\n",
       "      <td id=\"T_87c85_row2_col1\" class=\"data row2 col1\" >13</td>\n",
       "    </tr>\n",
       "  </tbody>\n",
       "</table>\n"
      ],
      "text/plain": [
       "<pandas.io.formats.style.Styler at 0x260f24922d0>"
      ]
     },
     "metadata": {},
     "output_type": "display_data"
    },
    {
     "name": "stdout",
     "output_type": "stream",
     "text": [
      "\n",
      "Russian DataFrame Counts:\n"
     ]
    },
    {
     "data": {
      "text/html": [
       "<style type=\"text/css\">\n",
       "</style>\n",
       "<table id=\"T_07a22\">\n",
       "  <caption>Russian articles/mention: Ukraine</caption>\n",
       "  <thead>\n",
       "    <tr>\n",
       "      <th class=\"blank level0\" >&nbsp;</th>\n",
       "      <th id=\"T_07a22_level0_col0\" class=\"col_heading level0 col0\" >Class1</th>\n",
       "      <th id=\"T_07a22_level0_col1\" class=\"col_heading level0 col1\" >Count</th>\n",
       "    </tr>\n",
       "  </thead>\n",
       "  <tbody>\n",
       "    <tr>\n",
       "      <th id=\"T_07a22_level0_row0\" class=\"row_heading level0 row0\" >0</th>\n",
       "      <td id=\"T_07a22_row0_col0\" class=\"data row0 col0\" >Antagonist</td>\n",
       "      <td id=\"T_07a22_row0_col1\" class=\"data row0 col1\" >17</td>\n",
       "    </tr>\n",
       "    <tr>\n",
       "      <th id=\"T_07a22_level0_row1\" class=\"row_heading level0 row1\" >1</th>\n",
       "      <td id=\"T_07a22_row1_col0\" class=\"data row1 col0\" >Innocent</td>\n",
       "      <td id=\"T_07a22_row1_col1\" class=\"data row1 col1\" >29</td>\n",
       "    </tr>\n",
       "    <tr>\n",
       "      <th id=\"T_07a22_level0_row2\" class=\"row_heading level0 row2\" >2</th>\n",
       "      <td id=\"T_07a22_row2_col0\" class=\"data row2 col0\" >Protagonist</td>\n",
       "      <td id=\"T_07a22_row2_col1\" class=\"data row2 col1\" >29</td>\n",
       "    </tr>\n",
       "  </tbody>\n",
       "</table>\n"
      ],
      "text/plain": [
       "<pandas.io.formats.style.Styler at 0x260f24922d0>"
      ]
     },
     "metadata": {},
     "output_type": "display_data"
    }
   ],
   "source": [
    "df_en_counts_Russia = pd.DataFrame({\n",
    "    'Class1': ['Antagonist', 'Innocent', 'Protagonist'],\n",
    "    'Count': [\n",
    "        df_en[((df_en['entity'] == 'Russia') | (df_en['entity'] == 'Russians')) & (df_en['class1'] == 'Antagonist')]['entity'].count(),\n",
    "        df_en[((df_en['entity'] == 'Russia') | (df_en['entity'] == 'Russians')) & (df_en['class1'] == 'Innocent')]['entity'].count(),\n",
    "        df_en[((df_en['entity'] == 'Russia') | (df_en['entity'] == 'Russians')) & (df_en['class1'] == 'Protagonist')]['entity'].count(),\n",
    "    ]\n",
    "})\n",
    "\n",
    "df_ru_counts_Russia = pd.DataFrame({\n",
    "    'Class1': ['Antagonist', 'Innocent', 'Protagonist'],\n",
    "    'Count': [\n",
    "        df_ru[((df_ru['entity'] == 'Россия') | (df_ru['entity'] == 'России')) & (df_ru['class1'] == 'Antagonist')]['entity'].count(),\n",
    "        df_ru[((df_ru['entity'] == 'Россия') | (df_ru['entity'] == 'России')) & (df_ru['class1'] == 'Innocent')]['entity'].count(),\n",
    "        df_ru[((df_ru['entity'] == 'Россия') | (df_ru['entity'] == 'России')) & (df_ru['class1'] == 'Protagonist')]['entity'].count(),\n",
    "    ]\n",
    "})\n",
    "\n",
    "print(\"English DataFrame Counts:\")\n",
    "display(df_en_counts_Russia.style.set_caption(\"English articles/mention: Russia\"))\n",
    "\n",
    "print(\"\\nRussian DataFrame Counts:\")\n",
    "display(df_ru_counts_Russia.style.set_caption(\"Russian articles/mention: Russia\"))\n",
    "\n",
    "df_en_counts_Ukraine = pd.DataFrame({\n",
    "    'Class1': ['Antagonist', 'Innocent', 'Protagonist'],\n",
    "    'Count': [\n",
    "        df_en[((df_en['entity'] == 'Ukraine') | (df_en['entity'] == 'Ukrainians')) & (df_en['class1'] == 'Antagonist')]['entity'].count(),\n",
    "        df_en[((df_en['entity'] == 'Ukraine') | (df_en['entity'] == 'Ukrainians')) & (df_en['class1'] == 'Innocent')]['entity'].count(),\n",
    "        df_en[((df_en['entity'] == 'Ukraine') | (df_en['entity'] == 'Ukrainians')) & (df_en['class1'] == 'Protagonist')]['entity'].count(),\n",
    "    ]\n",
    "})\n",
    "\n",
    "df_ru_counts_Ukraine = pd.DataFrame({\n",
    "    'Class1': ['Antagonist', 'Innocent', 'Protagonist'],\n",
    "    'Count': [\n",
    "        df_ru[((df_ru['entity'] == 'Украины') | (df_ru['entity'] == 'Украине') | (df_ru['entity'] == 'Украина')) & (df_ru['class1'] == 'Antagonist')]['entity'].count(),\n",
    "        df_ru[((df_ru['entity'] == 'Украины') | (df_ru['entity'] == 'Украине') | (df_ru['entity'] == 'Украина'))]['entity'].count(),\n",
    "        df_ru[((df_ru['entity'] == 'Украины') | (df_ru['entity'] == 'Украине') | (df_ru['entity'] == 'Украина'))]['entity'].count(),\n",
    "    ]\n",
    "})\n",
    "\n",
    "print(\"English DataFrame Counts:\")\n",
    "display(df_en_counts_Ukraine.style.set_caption(\"English articles/mention: Ukraine\"))\n",
    "\n",
    "print(\"\\nRussian DataFrame Counts:\")\n",
    "display(df_ru_counts_Ukraine.style.set_caption(\"Russian articles/mention: Ukraine\"))\n"
   ]
  },
  {
   "cell_type": "markdown",
   "id": "665f4e30",
   "metadata": {},
   "source": [
    "### Exploratory analysis for second class labels "
   ]
  },
  {
   "cell_type": "code",
   "execution_count": 12,
   "id": "af3da405",
   "metadata": {},
   "outputs": [
    {
     "name": "stdout",
     "output_type": "stream",
     "text": [
      "Number of NE where first class is Innocent:  628\n",
      "Second layer labels - Victim:  523\n",
      "Second layer labels - Forgotten:  26\n",
      "Second layer labels - Exploited:  65\n",
      "Second layer labels - Scapegoat:  28\n",
      "Note that this is a multilabel classification\n"
     ]
    }
   ],
   "source": [
    "df_innocent = df[(df['class1'] == 'Innocent')]\n",
    "print('Number of NE where first class is Innocent: ',df_innocent.shape[0])\n",
    "\n",
    "df_victim = df_innocent[df_innocent['classes2'].apply(lambda x: 'Victim' in x)]\n",
    "df_forgotten = df_innocent[df_innocent['classes2'].apply(lambda x: 'Forgotten' in x)]\n",
    "df_exploited = df_innocent[df_innocent['classes2'].apply(lambda x: 'Exploited' in x)]\n",
    "df_scapegoat = df_innocent[df_innocent['classes2'].apply(lambda x: 'Scapegoat' in x)]\n",
    "\n",
    "print(\"Second layer labels - Victim: \", df_victim.shape[0])\n",
    "print(\"Second layer labels - Forgotten: \", df_forgotten.shape[0])\n",
    "print(\"Second layer labels - Exploited: \", df_exploited.shape[0])\n",
    "print(\"Second layer labels - Scapegoat: \", df_scapegoat.shape[0])\n",
    "print(\"Note that this is a multilabel classification\")"
   ]
  },
  {
   "cell_type": "markdown",
   "id": "54f90431",
   "metadata": {},
   "source": [
    "This is very unbalanced, and will for sure induce bias in our model..."
   ]
  },
  {
   "cell_type": "code",
   "execution_count": 13,
   "id": "d5350b00",
   "metadata": {},
   "outputs": [
    {
     "name": "stdout",
     "output_type": "stream",
     "text": [
      "Number of NE where first class is Antagonist:  1422\n",
      "Second layer labels - Instigator:  250\n",
      "Second layer labels - Conspirator:  135\n",
      "Second layer labels - Tyrant:  130\n",
      "Second layer labels - Foreign Adversary:  426\n",
      "Second layer labels - Traitor:  36\n",
      "Second layer labels - Spy:  17\n",
      "Second layer labels - Saboteur:  56\n",
      "Second layer labels - Corrupt:  92\n",
      "Second layer labels - Incompetent:  165\n",
      "Second layer labels - Terrorist:  142\n",
      "Second layer labels - Deceiver:  121\n",
      "Second layer labels - Bigot:  26\n",
      "Note that this is a multilabel classification\n"
     ]
    }
   ],
   "source": [
    "df_antagonist = df[(df['class1'] == 'Antagonist')]\n",
    "print('Number of NE where first class is Antagonist: ',df_antagonist.shape[0])\n",
    "\n",
    "print(\"Second layer labels - Instigator: \", df_antagonist[df_antagonist['classes2'].apply(lambda x: 'Instigator' in x)].shape[0])\n",
    "print(\"Second layer labels - Conspirator: \", df_antagonist[df_antagonist['classes2'].apply(lambda x: 'Conspirator' in x)].shape[0])\n",
    "print(\"Second layer labels - Tyrant: \",df_antagonist[df_antagonist['classes2'].apply(lambda x: 'Tyrant' in x)].shape[0])\n",
    "print(\"Second layer labels - Foreign Adversary: \",  df_antagonist[df_antagonist['classes2'].apply(lambda x: 'Foreign Adversary' in x)].shape[0])\n",
    "print(\"Second layer labels - Traitor: \", df_antagonist[df_antagonist['classes2'].apply(lambda x: 'Traitor' in x)].shape[0])\n",
    "print(\"Second layer labels - Spy: \", df_antagonist[df_antagonist['classes2'].apply(lambda x: 'Spy' in x)].shape[0])\n",
    "print(\"Second layer labels - Saboteur: \", df_antagonist[df_antagonist['classes2'].apply(lambda x: 'Saboteur' in x)].shape[0])\n",
    "print(\"Second layer labels - Corrupt: \",  df_antagonist[df_antagonist['classes2'].apply(lambda x: 'Corrupt' in x)].shape[0])\n",
    "print(\"Second layer labels - Incompetent: \", df_antagonist[df_antagonist['classes2'].apply(lambda x: 'Incompetent' in x)].shape[0])\n",
    "print(\"Second layer labels - Terrorist: \", df_antagonist[df_antagonist['classes2'].apply(lambda x: 'Terrorist' in x)].shape[0])\n",
    "print(\"Second layer labels - Deceiver: \", df_antagonist[df_antagonist['classes2'].apply(lambda x: 'Deceiver' in x)].shape[0])\n",
    "print(\"Second layer labels - Bigot: \", df_antagonist[df_antagonist['classes2'].apply(lambda x: 'Bigot' in x)].shape[0])\n",
    "print(\"Note that this is a multilabel classification\")"
   ]
  },
  {
   "cell_type": "code",
   "execution_count": null,
   "id": "8d67caf2",
   "metadata": {},
   "outputs": [
    {
     "name": "stdout",
     "output_type": "stream",
     "text": [
      "Number of NE where first class is Protagonist:  852\n",
      "Second layer labels - Saboteur:  330\n",
      "Second layer labels - Corrupt:  21\n",
      "Second layer labels - Incompetent:  194\n",
      "Second layer labels - Terrorist:  61\n",
      "Second layer labels - Deceiver:  43\n",
      "Second layer labels - Bigot:  255\n",
      "Note that this is a multilabel classification\n"
     ]
    }
   ],
   "source": [
    "df_protagonist = df[(df['class1'] == 'Protagonist')]\n",
    "print('Number of NE where first class is Protagonist: ', df_protagonist.shape[0])\n",
    "\n",
    "print(\"Second layer labels - Guardian: \", df_protagonist[df_protagonist['classes2'].apply(lambda x: 'Guardian' in x)].shape[0])\n",
    "print(\"Second layer labels - Martyr: \",  df_protagonist[df_protagonist['classes2'].apply(lambda x: 'Martyr' in x)].shape[0])\n",
    "print(\"Second layer labels - Peacemaker: \", df_protagonist[df_protagonist['classes2'].apply(lambda x: 'Peacemaker' in x)].shape[0])\n",
    "print(\"Second layer labels - Rebel: \", df_protagonist[df_protagonist['classes2'].apply(lambda x: 'Rebel' in x)].shape[0])\n",
    "print(\"Second layer labels - Underdog: \", df_protagonist[df_protagonist['classes2'].apply(lambda x: 'Underdog' in x)].shape[0])\n",
    "print(\"Second layer labels - Virtuous: \", df_protagonist[df_protagonist['classes2'].apply(lambda x: 'Virtuous' in x)].shape[0])\n",
    "print(\"Note that this is a multilabel classification\")"
   ]
  }
 ],
 "metadata": {
  "kernelspec": {
   "display_name": "Python 3",
   "language": "python",
   "name": "python3"
  },
  "language_info": {
   "codemirror_mode": {
    "name": "ipython",
    "version": 3
   },
   "file_extension": ".py",
   "mimetype": "text/x-python",
   "name": "python",
   "nbconvert_exporter": "python",
   "pygments_lexer": "ipython3",
   "version": "3.12.3"
  }
 },
 "nbformat": 4,
 "nbformat_minor": 5
}
