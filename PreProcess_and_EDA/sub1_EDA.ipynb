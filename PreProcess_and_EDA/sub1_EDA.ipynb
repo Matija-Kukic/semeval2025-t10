{
 "cells": [
  {
   "cell_type": "code",
   "execution_count": 3,
   "id": "0959689f-145f-43d1-a859-7eee00c3c91f",
   "metadata": {},
   "outputs": [
    {
     "name": "stdout",
     "output_type": "stream",
     "text": [
      "/home/matijak/Documents/programiranje/projects/semeval/merged_data/subtask1.parquet\n"
     ]
    }
   ],
   "source": [
    "from pathlib import Path\n",
    "wd = Path.cwd()\n",
    "wd = wd.parent\n",
    "wd = wd / 'merged_data' \n",
    "sub1 = str(wd) + '/subtask1.parquet'\n",
    "print(sub1)"
   ]
  },
  {
   "cell_type": "code",
   "execution_count": 28,
   "id": "5386d80a-82ea-4cc2-b7f8-bdc21aba9168",
   "metadata": {},
   "outputs": [
    {
     "data": {
      "text/plain": [
       "<bound method DataFrame.aggregate of      lang    art_name             entity start   end       class1  \\\n",
       "0      BG  BG_670.txt              Запад   152   156   Antagonist   \n",
       "1      BG  BG_670.txt                САЩ   530   532   Antagonist   \n",
       "2      BG  BG_670.txt               НАТО   535   538   Antagonist   \n",
       "3      BG  BG_670.txt            Украйна   578   584   Antagonist   \n",
       "4      BG  BG_670.txt  украински войници   633   649     Innocent   \n",
       "...   ...         ...                ...   ...   ...          ...   \n",
       "2530   PT  PT_159.txt              China   371   375     Innocent   \n",
       "2531   PT   PT_74.txt           Pokrovsk  1139  1146     Innocent   \n",
       "2532   PT   PT_31.txt            Ucrânia   313   319   Antagonist   \n",
       "2533   PT   PT_31.txt                EUA   327   329   Antagonist   \n",
       "2534   PT   PT_31.txt            Moscovo  1999  2005  Protagonist   \n",
       "\n",
       "                                          classes2  \\\n",
       "0     [Conspirator, Instigator, Foreign Adversary]   \n",
       "1                                     [Instigator]   \n",
       "2                                     [Instigator]   \n",
       "3                              [Foreign Adversary]   \n",
       "4                                         [Victim]   \n",
       "...                                            ...   \n",
       "2530                                      [Victim]   \n",
       "2531                                      [Victim]   \n",
       "2532                           [Foreign Adversary]   \n",
       "2533                           [Foreign Adversary]   \n",
       "2534                                    [Guardian]   \n",
       "\n",
       "                                                   text  \n",
       "0     Опитът на колективния Запад да „обезкърви Руси...  \n",
       "1     Опитът на колективния Запад да „обезкърви Руси...  \n",
       "2     Опитът на колективния Запад да „обезкърви Руси...  \n",
       "3     Опитът на колективния Запад да „обезкърви Руси...  \n",
       "4     Опитът на колективния Запад да „обезкърви Руси...  \n",
       "...                                                 ...  \n",
       "2530  A transição energética\\n\\nMultiplicam-se os fe...  \n",
       "2531  Rússia assume controlo de mais uma povoação no...  \n",
       "2532  Quais foram as consequências do ataque de Iska...  \n",
       "2533  Quais foram as consequências do ataque de Iska...  \n",
       "2534  Quais foram as consequências do ataque de Iska...  \n",
       "\n",
       "[2535 rows x 8 columns]>"
      ]
     },
     "execution_count": 28,
     "metadata": {},
     "output_type": "execute_result"
    }
   ],
   "source": [
    "import pandas as pd\n",
    "df = pd.read_parquet(sub1)\n",
    "#df.head(n=20)\n",
    "df.aggregate"
   ]
  },
  {
   "cell_type": "code",
   "execution_count": null,
   "id": "bdc168fb-bb87-46f6-a9d0-4138aec41c09",
   "metadata": {},
   "outputs": [],
   "source": []
  }
 ],
 "metadata": {
  "kernelspec": {
   "display_name": "Python 3 (ipykernel)",
   "language": "python",
   "name": "python3"
  },
  "language_info": {
   "codemirror_mode": {
    "name": "ipython",
    "version": 3
   },
   "file_extension": ".py",
   "mimetype": "text/x-python",
   "name": "python",
   "nbconvert_exporter": "python",
   "pygments_lexer": "ipython3",
   "version": "3.12.7"
  }
 },
 "nbformat": 4,
 "nbformat_minor": 5
}
