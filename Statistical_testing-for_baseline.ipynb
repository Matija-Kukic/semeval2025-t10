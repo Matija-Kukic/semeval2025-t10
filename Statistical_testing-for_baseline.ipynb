{
 "cells": [
  {
   "cell_type": "code",
   "execution_count": 1,
   "id": "a8769cd0-b67e-4b86-bb95-7bc07a9146c4",
   "metadata": {},
   "outputs": [
    {
     "name": "stdout",
     "output_type": "stream",
     "text": [
      "/home/mkukic/projektR2025/merged_data/subtask1.parquet\n",
      "/home/mkukic/projektR2025/merged_data/subtask1_test.parquet\n"
     ]
    }
   ],
   "source": [
    "from pathlib import Path\n",
    "wd = Path.cwd()\n",
    "wd = wd / 'merged_data'\n",
    "sub1 = str(wd) + '/subtask1.parquet'\n",
    "sub2 = str(wd) + '/subtask1_test.parquet'\n",
    "print(sub1)\n",
    "print(sub2)"
   ]
  },
  {
   "cell_type": "code",
   "execution_count": 2,
   "id": "9d6283a1-273c-423e-a2c8-1de569308f61",
   "metadata": {},
   "outputs": [],
   "source": [
    "import pandas as pd\n",
    "df = pd.read_parquet(sub1)\n",
    "df2 = pd.read_parquet(sub2)\n",
    "#print(df2.tail())\n",
    "#print(df.tail())"
   ]
  },
  {
   "cell_type": "code",
   "execution_count": 3,
   "id": "8c2622a0-0f60-41c8-9236-48f522240c8e",
   "metadata": {},
   "outputs": [],
   "source": [
    "df = pd.concat([df, df2], ignore_index=True)\n",
    "#df = df[:100]\n",
    "#df.tail()"
   ]
  },
  {
   "cell_type": "code",
   "execution_count": 4,
   "id": "9459f45a-0b1d-4709-b2e6-61eb8f3c2510",
   "metadata": {},
   "outputs": [],
   "source": [
    "import re\n",
    "def labelNum(row):\n",
    "    if row['class1'] == 'Antagonist':\n",
    "        return int(0)\n",
    "    if row['class1'] == 'Innocent':\n",
    "        return int(1)\n",
    "    if row['class1'] == 'Protagonist':\n",
    "        return int(2)\n",
    "def cleanText(row):\n",
    "    text = str(row['text'])\n",
    "    #text = re.sub(r'[^\\w\\s]', ' ', text)\n",
    "    text = text.replace('\\n',' ').replace('  ', ' ')\n",
    "    return text\n",
    "df['label1'] = df.apply(labelNum,axis=1)\n",
    "df['input'] = df.apply(cleanText,axis=1)"
   ]
  },
  {
   "cell_type": "code",
   "execution_count": 5,
   "id": "3d3ec00e-32dd-4905-8ab2-88c8034b68e0",
   "metadata": {},
   "outputs": [],
   "source": [
    "def labelNum2(row):\n",
    "    labels2 = [0 for _ in range(22)]\n",
    "    if row['label1'] == 2:\n",
    "        #labels2 = [0 for _ in range(6)]\n",
    "        if 'Guardian' in row['classes2']:\n",
    "            labels2[0] = 1\n",
    "        if 'Martyr' in row['classes2']:\n",
    "            labels2[1] = 1\n",
    "        if 'Peacemaker' in row['classes2']:\n",
    "            labels2[2] = 1\n",
    "        if 'Rebel' in row['classes2']:\n",
    "            labels2[3] = 1\n",
    "        if 'Underdog' in row['classes2']:\n",
    "            labels2[4] = 1\n",
    "        if 'Virtuous' in row['classes2']:\n",
    "            labels2[5] = 1\n",
    "    elif row['label1'] == 0:\n",
    "        #labels2 = [0 for _ in range(12)]\n",
    "        if 'Instigator' in row['classes2']:\n",
    "           labels2[6] = 1\n",
    "        if 'Conspirator' in row['classes2']:\n",
    "            labels2[7] = 1\n",
    "        if 'Tyrant' in row['classes2']:\n",
    "            labels2[8] = 1\n",
    "        if  'Foreign Adversary' in row['classes2']:\n",
    "            labels2[9] = 1\n",
    "        if 'Traitor' in row['classes2']:\n",
    "            labels2[10] = 1\n",
    "        if 'Spy' in row['classes2']:\n",
    "            labels2[11] = 1\n",
    "        if 'Saboteur' in row['classes2']:\n",
    "            labels2[12] = 1\n",
    "        if 'Corrupt' in row['classes2']:\n",
    "            labels2[13] = 1\n",
    "        if 'Incompetent' in row['classes2']:\n",
    "            labels2[14] = 1\n",
    "        if 'Terrorist' in row['classes2']:\n",
    "            labels2[15] = 1\n",
    "        if 'Deceiver' in row['classes2']:\n",
    "            labels2[16] = 1\n",
    "        if 'Bigot' in row['classes2']:\n",
    "            labels2[17] = 1\n",
    "    elif row['label1'] == 1:\n",
    "        #labels2 = [0 for _ in range(4)]\n",
    "        if 'Forgotten' in row['classes2']:\n",
    "            labels2[18] = 1\n",
    "        if 'Exploited' in row['classes2']:\n",
    "            labels2[19] = 1\n",
    "        if 'Victim' in row['classes2']:\n",
    "            labels2[20] = 1\n",
    "        if 'Scapegoat' in row['classes2']:\n",
    "            labels2[21] = 1\n",
    "    return labels2\n",
    "\n",
    "df['label2'] = df.apply(labelNum2, axis=1)"
   ]
  },
  {
   "cell_type": "code",
   "execution_count": 6,
   "id": "be7b9382-9204-4de2-8470-5e5ad39ba867",
   "metadata": {},
   "outputs": [],
   "source": [
    "data = df.loc[ : , ['input','label2']]\n",
    "data.aggregate\n",
    "\n",
    "from sklearn.model_selection import train_test_split\n",
    "import numpy as np\n",
    "X = data[\"input\"]\n",
    "y = data[\"label2\"]\n",
    "lang = df['lang'].tolist()\n",
    "lang = np.array(lang)\n"
   ]
  },
  {
   "cell_type": "code",
   "execution_count": 7,
   "id": "93b62a36-25ff-499c-8a54-78d3d2741f11",
   "metadata": {},
   "outputs": [],
   "source": [
    "# for the confusion matrix in the end\n",
    "from sklearn.metrics import precision_recall_fscore_support\n",
    "from torch.optim import AdamW\n",
    "final_preds = np.empty((0, 12), dtype=np.int8)\n",
    "final_labels = np.empty((0, 12), dtype=np.int8)\n",
    "#span_start_token_id = tokenizer.convert_tokens_to_ids('[SPAN_START]')\n",
    "#span_end_token_id = tokenizer.convert_tokens_to_ids('[SPAN_END]')"
   ]
  },
  {
   "cell_type": "code",
   "execution_count": 8,
   "id": "425987b1-9860-4210-977b-bb74333674c5",
   "metadata": {},
   "outputs": [
    {
     "name": "stderr",
     "output_type": "stream",
     "text": [
      "/home/mkukic/.conda/envs/projektR2025/lib/python3.10/site-packages/tqdm/auto.py:21: TqdmWarning: IProgress not found. Please update jupyter and ipywidgets. See https://ipywidgets.readthedocs.io/en/stable/user_install.html\n",
      "  from .autonotebook import tqdm as notebook_tqdm\n"
     ]
    }
   ],
   "source": [
    "from transformers import XLMRobertaForSequenceClassification, XLMRobertaTokenizerFast\n",
    "\n",
    "#model = XLMRobertaForSequenceClassification.from_pretrained(\"xlm-roberta-base\", num_labels=22,problem_type=\"multi_label_classification\").to(device)\n",
    "tokenizer = XLMRobertaTokenizerFast.from_pretrained(\"xlm-roberta-base\")"
   ]
  },
  {
   "cell_type": "code",
   "execution_count": 9,
   "id": "178a4e44-73c6-4fd6-89d8-a91bb2c727d1",
   "metadata": {},
   "outputs": [],
   "source": [
    "def preprocess_function(examples):\n",
    "    return tokenizer(examples['text'], padding=True, truncation=True, max_length=512)"
   ]
  },
  {
   "cell_type": "code",
   "execution_count": 10,
   "id": "995c22ec-5c04-429e-8b86-cae5ecf79812",
   "metadata": {},
   "outputs": [],
   "source": [
    "accuracies_model = []\n",
    "accuracies_baseline =[]"
   ]
  },
  {
   "cell_type": "code",
   "execution_count": 11,
   "id": "6bac3f78-7e5c-4799-b3b9-648fdc08acb2",
   "metadata": {},
   "outputs": [
    {
     "name": "stdout",
     "output_type": "stream",
     "text": [
      "Using device: cuda\n"
     ]
    }
   ],
   "source": [
    "import torch\n",
    "from datasets import Dataset\n",
    "from torch.utils.data import DataLoader\n",
    "from tqdm import tqdm\n",
    "device = torch.device(\"cuda\" if torch.cuda.is_available() else \"cpu\")\n",
    "print(f\"Using device: {device}\")\n",
    "def set_seed_everywhere(seed):\n",
    "    random.seed(seed)\n",
    "    os.environ[\"PYTHONHASHSEED\"] = str(seed)\n",
    "    np.random.seed(seed)\n",
    "    torch.manual_seed(seed)\n",
    "    if torch.cuda.is_available():\n",
    "        torch.cuda.manual_seed(seed)\n",
    "        torch.cuda.manual_seed_all(seed)\n",
    "\n",
    "    torch.backends.cudnn.deterministic = True\n",
    "    torch.backends.cudnn.benchmark = False"
   ]
  },
  {
   "cell_type": "code",
   "execution_count": 12,
   "id": "1403aa52-e315-4dfc-9c57-56e7a9784c84",
   "metadata": {},
   "outputs": [
    {
     "name": "stdout",
     "output_type": "stream",
     "text": [
      "Testing seed: 1\n"
     ]
    },
    {
     "name": "stderr",
     "output_type": "stream",
     "text": [
      "Map: 100%|█████████████████████████████████████████████████████████████████████████████████████████████████████████████████████████████████████| 2804/2804 [00:01<00:00, 1553.20 examples/s]\n",
      "Map: 100%|███████████████████████████████████████████████████████████████████████████████████████████████████████████████████████████████████████| 702/702 [00:00<00:00, 1578.09 examples/s]\n",
      "Some weights of XLMRobertaForSequenceClassification were not initialized from the model checkpoint at xlm-roberta-base and are newly initialized: ['classifier.dense.bias', 'classifier.dense.weight', 'classifier.out_proj.bias', 'classifier.out_proj.weight']\n",
      "You should probably TRAIN this model on a down-stream task to be able to use it for predictions and inference.\n",
      "Training Epoch 1/8: 100%|█████████████████████████████████████████████████████████████████████████████████████████████████████████████████████| 176/176 [05:18<00:00,  1.81s/it, loss=0.222]\n"
     ]
    },
    {
     "name": "stdout",
     "output_type": "stream",
     "text": [
      "Epoch 1/8\n",
      "Training loss: 0.2274, Training accuracy: 0.0521\n"
     ]
    },
    {
     "name": "stderr",
     "output_type": "stream",
     "text": [
      "Test Epoch 1/8: 100%|███████████████████████████████████████████████████████████████████████████████████████████████████████████████████████████| 44/44 [00:20<00:00,  2.12it/s, loss=0.148]\n"
     ]
    },
    {
     "name": "stdout",
     "output_type": "stream",
     "text": [
      "Test loss: 0.1788, Test accuracy: 0.1937\n"
     ]
    },
    {
     "name": "stderr",
     "output_type": "stream",
     "text": [
      "Training Epoch 2/8: 100%|█████████████████████████████████████████████████████████████████████████████████████████████████████████████████████| 176/176 [05:20<00:00,  1.82s/it, loss=0.155]\n"
     ]
    },
    {
     "name": "stdout",
     "output_type": "stream",
     "text": [
      "Epoch 2/8\n",
      "Training loss: 0.1768, Training accuracy: 0.0956\n"
     ]
    },
    {
     "name": "stderr",
     "output_type": "stream",
     "text": [
      "Test Epoch 2/8: 100%|███████████████████████████████████████████████████████████████████████████████████████████████████████████████████████████| 44/44 [00:20<00:00,  2.12it/s, loss=0.202]\n"
     ]
    },
    {
     "name": "stdout",
     "output_type": "stream",
     "text": [
      "Test loss: 0.1774, Test accuracy: 0.1937\n"
     ]
    },
    {
     "name": "stderr",
     "output_type": "stream",
     "text": [
      "Training Epoch 3/8: 100%|█████████████████████████████████████████████████████████████████████████████████████████████████████████████████████| 176/176 [05:21<00:00,  1.82s/it, loss=0.161]\n"
     ]
    },
    {
     "name": "stdout",
     "output_type": "stream",
     "text": [
      "Epoch 3/8\n",
      "Training loss: 0.1741, Training accuracy: 0.0881\n"
     ]
    },
    {
     "name": "stderr",
     "output_type": "stream",
     "text": [
      "Test Epoch 3/8: 100%|███████████████████████████████████████████████████████████████████████████████████████████████████████████████████████████| 44/44 [00:20<00:00,  2.12it/s, loss=0.159]\n"
     ]
    },
    {
     "name": "stdout",
     "output_type": "stream",
     "text": [
      "Test loss: 0.1730, Test accuracy: 0.0712\n"
     ]
    },
    {
     "name": "stderr",
     "output_type": "stream",
     "text": [
      "Training Epoch 5/8: 100%|█████████████████████████████████████████████████████████████████████████████████████████████████████████████████████| 176/176 [05:21<00:00,  1.82s/it, loss=0.163]\n"
     ]
    },
    {
     "name": "stdout",
     "output_type": "stream",
     "text": [
      "Epoch 5/8\n",
      "Training loss: 0.1660, Training accuracy: 0.0824\n"
     ]
    },
    {
     "name": "stderr",
     "output_type": "stream",
     "text": [
      "Test Epoch 5/8: 100%|███████████████████████████████████████████████████████████████████████████████████████████████████████████████████████████| 44/44 [00:20<00:00,  2.12it/s, loss=0.151]\n"
     ]
    },
    {
     "name": "stdout",
     "output_type": "stream",
     "text": [
      "Test loss: 0.1676, Test accuracy: 0.0826\n"
     ]
    },
    {
     "name": "stderr",
     "output_type": "stream",
     "text": [
      "Training Epoch 6/8: 100%|█████████████████████████████████████████████████████████████████████████████████████████████████████████████████████| 176/176 [05:20<00:00,  1.82s/it, loss=0.152]\n"
     ]
    },
    {
     "name": "stdout",
     "output_type": "stream",
     "text": [
      "Epoch 6/8\n",
      "Training loss: 0.1619, Training accuracy: 0.0867\n"
     ]
    },
    {
     "name": "stderr",
     "output_type": "stream",
     "text": [
      "Test Epoch 6/8: 100%|███████████████████████████████████████████████████████████████████████████████████████████████████████████████████████████| 44/44 [00:20<00:00,  2.12it/s, loss=0.164]\n"
     ]
    },
    {
     "name": "stdout",
     "output_type": "stream",
     "text": [
      "Test loss: 0.1669, Test accuracy: 0.0399\n"
     ]
    },
    {
     "name": "stderr",
     "output_type": "stream",
     "text": [
      "Training Epoch 7/8: 100%|█████████████████████████████████████████████████████████████████████████████████████████████████████████████████████| 176/176 [05:21<00:00,  1.83s/it, loss=0.143]\n"
     ]
    },
    {
     "name": "stdout",
     "output_type": "stream",
     "text": [
      "Epoch 7/8\n",
      "Training loss: 0.1585, Training accuracy: 0.0888\n"
     ]
    },
    {
     "name": "stderr",
     "output_type": "stream",
     "text": [
      "Test Epoch 7/8: 100%|████████████████████████████████████████████████████████████████████████████████████████████████████████████████████████████| 44/44 [00:20<00:00,  2.12it/s, loss=0.17]\n"
     ]
    },
    {
     "name": "stdout",
     "output_type": "stream",
     "text": [
      "Test loss: 0.1648, Test accuracy: 0.0883\n"
     ]
    },
    {
     "name": "stderr",
     "output_type": "stream",
     "text": [
      "Training Epoch 8/8: 100%|█████████████████████████████████████████████████████████████████████████████████████████████████████████████████████| 176/176 [05:21<00:00,  1.82s/it, loss=0.169]\n"
     ]
    },
    {
     "name": "stdout",
     "output_type": "stream",
     "text": [
      "Epoch 8/8\n",
      "Training loss: 0.1547, Training accuracy: 0.0999\n"
     ]
    },
    {
     "name": "stderr",
     "output_type": "stream",
     "text": [
      "Test Epoch 8/8: 100%|███████████████████████████████████████████████████████████████████████████████████████████████████████████████████████████| 44/44 [00:20<00:00,  2.12it/s, loss=0.169]\n"
     ]
    },
    {
     "name": "stdout",
     "output_type": "stream",
     "text": [
      "Test loss: 0.1634, Test accuracy: 0.0869\n",
      "Testing seed: 11\n"
     ]
    },
    {
     "name": "stderr",
     "output_type": "stream",
     "text": [
      "Map: 100%|█████████████████████████████████████████████████████████████████████████████████████████████████████████████████████████████████████| 2804/2804 [00:01<00:00, 1536.52 examples/s]\n",
      "Map: 100%|███████████████████████████████████████████████████████████████████████████████████████████████████████████████████████████████████████| 702/702 [00:00<00:00, 1562.96 examples/s]\n",
      "Some weights of XLMRobertaForSequenceClassification were not initialized from the model checkpoint at xlm-roberta-base and are newly initialized: ['classifier.dense.bias', 'classifier.dense.weight', 'classifier.out_proj.bias', 'classifier.out_proj.weight']\n",
      "You should probably TRAIN this model on a down-stream task to be able to use it for predictions and inference.\n",
      "Training Epoch 1/8: 100%|█████████████████████████████████████████████████████████████████████████████████████████████████████████████████████| 176/176 [05:20<00:00,  1.82s/it, loss=0.123]\n"
     ]
    },
    {
     "name": "stdout",
     "output_type": "stream",
     "text": [
      "Epoch 1/8\n",
      "Training loss: 0.2234, Training accuracy: 0.0613\n"
     ]
    },
    {
     "name": "stderr",
     "output_type": "stream",
     "text": [
      "Test Epoch 1/8: 100%|████████████████████████████████████████████████████████████████████████████████████████████████████████████████████████████| 44/44 [00:20<00:00,  2.13it/s, loss=0.17]\n"
     ]
    },
    {
     "name": "stdout",
     "output_type": "stream",
     "text": [
      "Test loss: 0.1786, Test accuracy: 0.1937\n"
     ]
    },
    {
     "name": "stderr",
     "output_type": "stream",
     "text": [
      "Training Epoch 2/8: 100%|█████████████████████████████████████████████████████████████████████████████████████████████████████████████████████| 176/176 [05:21<00:00,  1.82s/it, loss=0.154]\n"
     ]
    },
    {
     "name": "stdout",
     "output_type": "stream",
     "text": [
      "Epoch 2/8\n",
      "Training loss: 0.1762, Training accuracy: 0.1009\n"
     ]
    },
    {
     "name": "stderr",
     "output_type": "stream",
     "text": [
      "Test Epoch 2/8: 100%|███████████████████████████████████████████████████████████████████████████████████████████████████████████████████████████| 44/44 [00:20<00:00,  2.13it/s, loss=0.167]\n"
     ]
    },
    {
     "name": "stdout",
     "output_type": "stream",
     "text": [
      "Test loss: 0.1772, Test accuracy: 0.1339\n"
     ]
    },
    {
     "name": "stderr",
     "output_type": "stream",
     "text": [
      "Training Epoch 4/8: 100%|█████████████████████████████████████████████████████████████████████████████████████████████████████████████████████| 176/176 [05:20<00:00,  1.82s/it, loss=0.175]\n"
     ]
    },
    {
     "name": "stdout",
     "output_type": "stream",
     "text": [
      "Epoch 4/8\n",
      "Training loss: 0.1722, Training accuracy: 0.0546\n"
     ]
    },
    {
     "name": "stderr",
     "output_type": "stream",
     "text": [
      "Test Epoch 4/8: 100%|███████████████████████████████████████████████████████████████████████████████████████████████████████████████████████████| 44/44 [00:20<00:00,  2.13it/s, loss=0.167]\n"
     ]
    },
    {
     "name": "stdout",
     "output_type": "stream",
     "text": [
      "Test loss: 0.1731, Test accuracy: 0.0912\n"
     ]
    },
    {
     "name": "stderr",
     "output_type": "stream",
     "text": [
      "Training Epoch 5/8: 100%|█████████████████████████████████████████████████████████████████████████████████████████████████████████████████████| 176/176 [05:20<00:00,  1.82s/it, loss=0.171]\n"
     ]
    },
    {
     "name": "stdout",
     "output_type": "stream",
     "text": [
      "Epoch 5/8\n",
      "Training loss: 0.1688, Training accuracy: 0.0752\n"
     ]
    },
    {
     "name": "stderr",
     "output_type": "stream",
     "text": [
      "Test Epoch 5/8: 100%|███████████████████████████████████████████████████████████████████████████████████████████████████████████████████████████| 44/44 [00:20<00:00,  2.12it/s, loss=0.148]\n"
     ]
    },
    {
     "name": "stdout",
     "output_type": "stream",
     "text": [
      "Test loss: 0.1706, Test accuracy: 0.0584\n"
     ]
    },
    {
     "name": "stderr",
     "output_type": "stream",
     "text": [
      "Training Epoch 6/8: 100%|██████████████████████████████████████████████████████████████████████████████████████████████████████████████████████| 176/176 [05:20<00:00,  1.82s/it, loss=0.16]\n"
     ]
    },
    {
     "name": "stdout",
     "output_type": "stream",
     "text": [
      "Epoch 6/8\n",
      "Training loss: 0.1656, Training accuracy: 0.0735\n"
     ]
    },
    {
     "name": "stderr",
     "output_type": "stream",
     "text": [
      "Test Epoch 6/8: 100%|████████████████████████████████████████████████████████████████████████████████████████████████████████████████████████████| 44/44 [00:20<00:00,  2.12it/s, loss=0.15]\n"
     ]
    },
    {
     "name": "stdout",
     "output_type": "stream",
     "text": [
      "Test loss: 0.1665, Test accuracy: 0.0997\n"
     ]
    },
    {
     "name": "stderr",
     "output_type": "stream",
     "text": [
      "Training Epoch 7/8: 100%|█████████████████████████████████████████████████████████████████████████████████████████████████████████████████████| 176/176 [05:21<00:00,  1.82s/it, loss=0.188]\n"
     ]
    },
    {
     "name": "stdout",
     "output_type": "stream",
     "text": [
      "Epoch 7/8\n",
      "Training loss: 0.1616, Training accuracy: 0.0938\n"
     ]
    },
    {
     "name": "stderr",
     "output_type": "stream",
     "text": [
      "Test Epoch 7/8: 100%|███████████████████████████████████████████████████████████████████████████████████████████████████████████████████████████| 44/44 [00:20<00:00,  2.12it/s, loss=0.188]\n"
     ]
    },
    {
     "name": "stdout",
     "output_type": "stream",
     "text": [
      "Test loss: 0.1656, Test accuracy: 0.0726\n"
     ]
    },
    {
     "name": "stderr",
     "output_type": "stream",
     "text": [
      "Training Epoch 8/8: 100%|█████████████████████████████████████████████████████████████████████████████████████████████████████████████████████| 176/176 [05:21<00:00,  1.83s/it, loss=0.149]\n"
     ]
    },
    {
     "name": "stdout",
     "output_type": "stream",
     "text": [
      "Epoch 8/8\n",
      "Training loss: 0.1573, Training accuracy: 0.0867\n"
     ]
    },
    {
     "name": "stderr",
     "output_type": "stream",
     "text": [
      "Test Epoch 8/8: 100%|███████████████████████████████████████████████████████████████████████████████████████████████████████████████████████████| 44/44 [00:20<00:00,  2.13it/s, loss=0.192]\n"
     ]
    },
    {
     "name": "stdout",
     "output_type": "stream",
     "text": [
      "Test loss: 0.1640, Test accuracy: 0.0926\n",
      "Testing seed: 42\n"
     ]
    },
    {
     "name": "stderr",
     "output_type": "stream",
     "text": [
      "Map: 100%|█████████████████████████████████████████████████████████████████████████████████████████████████████████████████████████████████████| 2804/2804 [00:01<00:00, 1555.06 examples/s]\n",
      "Map: 100%|███████████████████████████████████████████████████████████████████████████████████████████████████████████████████████████████████████| 702/702 [00:00<00:00, 1531.68 examples/s]\n",
      "Some weights of XLMRobertaForSequenceClassification were not initialized from the model checkpoint at xlm-roberta-base and are newly initialized: ['classifier.dense.bias', 'classifier.dense.weight', 'classifier.out_proj.bias', 'classifier.out_proj.weight']\n",
      "You should probably TRAIN this model on a down-stream task to be able to use it for predictions and inference.\n",
      "Training Epoch 1/8: 100%|█████████████████████████████████████████████████████████████████████████████████████████████████████████████████████| 176/176 [05:21<00:00,  1.83s/it, loss=0.184]\n"
     ]
    },
    {
     "name": "stdout",
     "output_type": "stream",
     "text": [
      "Epoch 1/8\n",
      "Training loss: 0.2297, Training accuracy: 0.0563\n"
     ]
    },
    {
     "name": "stderr",
     "output_type": "stream",
     "text": [
      "Test Epoch 1/8: 100%|███████████████████████████████████████████████████████████████████████████████████████████████████████████████████████████| 44/44 [00:20<00:00,  2.13it/s, loss=0.156]\n"
     ]
    },
    {
     "name": "stdout",
     "output_type": "stream",
     "text": [
      "Test loss: 0.1786, Test accuracy: 0.1937\n"
     ]
    },
    {
     "name": "stderr",
     "output_type": "stream",
     "text": [
      "Training Epoch 2/8: 100%|█████████████████████████████████████████████████████████████████████████████████████████████████████████████████████| 176/176 [05:20<00:00,  1.82s/it, loss=0.147]\n"
     ]
    },
    {
     "name": "stdout",
     "output_type": "stream",
     "text": [
      "Epoch 2/8\n",
      "Training loss: 0.1763, Training accuracy: 0.0813\n"
     ]
    },
    {
     "name": "stderr",
     "output_type": "stream",
     "text": [
      "Test Epoch 2/8: 100%|███████████████████████████████████████████████████████████████████████████████████████████████████████████████████████████| 44/44 [00:20<00:00,  2.12it/s, loss=0.189]\n"
     ]
    },
    {
     "name": "stdout",
     "output_type": "stream",
     "text": [
      "Test loss: 0.1770, Test accuracy: 0.0413\n"
     ]
    },
    {
     "name": "stderr",
     "output_type": "stream",
     "text": [
      "Training Epoch 3/8: 100%|█████████████████████████████████████████████████████████████████████████████████████████████████████████████████████| 176/176 [05:21<00:00,  1.83s/it, loss=0.166]\n"
     ]
    },
    {
     "name": "stdout",
     "output_type": "stream",
     "text": [
      "Epoch 3/8\n",
      "Training loss: 0.1741, Training accuracy: 0.0567\n"
     ]
    },
    {
     "name": "stderr",
     "output_type": "stream",
     "text": [
      "Test Epoch 3/8: 100%|████████████████████████████████████████████████████████████████████████████████████████████████████████████████████████████| 44/44 [00:20<00:00,  2.13it/s, loss=0.19]\n"
     ]
    },
    {
     "name": "stdout",
     "output_type": "stream",
     "text": [
      "Test loss: 0.1744, Test accuracy: 0.0271\n"
     ]
    },
    {
     "name": "stderr",
     "output_type": "stream",
     "text": [
      "Training Epoch 5/8: 100%|█████████████████████████████████████████████████████████████████████████████████████████████████████████████████████| 176/176 [05:21<00:00,  1.82s/it, loss=0.219]\n"
     ]
    },
    {
     "name": "stdout",
     "output_type": "stream",
     "text": [
      "Epoch 5/8\n",
      "Training loss: 0.1695, Training accuracy: 0.0991\n"
     ]
    },
    {
     "name": "stderr",
     "output_type": "stream",
     "text": [
      "Test Epoch 5/8: 100%|███████████████████████████████████████████████████████████████████████████████████████████████████████████████████████████| 44/44 [00:20<00:00,  2.12it/s, loss=0.177]\n"
     ]
    },
    {
     "name": "stdout",
     "output_type": "stream",
     "text": [
      "Test loss: 0.1707, Test accuracy: 0.1382\n"
     ]
    },
    {
     "name": "stderr",
     "output_type": "stream",
     "text": [
      "Training Epoch 6/8: 100%|█████████████████████████████████████████████████████████████████████████████████████████████████████████████████████| 176/176 [05:21<00:00,  1.83s/it, loss=0.158]\n"
     ]
    },
    {
     "name": "stdout",
     "output_type": "stream",
     "text": [
      "Epoch 6/8\n",
      "Training loss: 0.1664, Training accuracy: 0.0959\n"
     ]
    },
    {
     "name": "stderr",
     "output_type": "stream",
     "text": [
      "Test Epoch 6/8: 100%|███████████████████████████████████████████████████████████████████████████████████████████████████████████████████████████| 44/44 [00:20<00:00,  2.13it/s, loss=0.188]\n"
     ]
    },
    {
     "name": "stdout",
     "output_type": "stream",
     "text": [
      "Test loss: 0.1679, Test accuracy: 0.0912\n"
     ]
    },
    {
     "name": "stderr",
     "output_type": "stream",
     "text": [
      "Training Epoch 7/8: 100%|█████████████████████████████████████████████████████████████████████████████████████████████████████████████████████| 176/176 [05:21<00:00,  1.82s/it, loss=0.161]\n"
     ]
    },
    {
     "name": "stdout",
     "output_type": "stream",
     "text": [
      "Epoch 7/8\n",
      "Training loss: 0.1629, Training accuracy: 0.0938\n"
     ]
    },
    {
     "name": "stderr",
     "output_type": "stream",
     "text": [
      "Test Epoch 7/8: 100%|███████████████████████████████████████████████████████████████████████████████████████████████████████████████████████████| 44/44 [00:20<00:00,  2.13it/s, loss=0.173]\n"
     ]
    },
    {
     "name": "stdout",
     "output_type": "stream",
     "text": [
      "Test loss: 0.1678, Test accuracy: 0.0726\n"
     ]
    },
    {
     "name": "stderr",
     "output_type": "stream",
     "text": [
      "Training Epoch 8/8: 100%|█████████████████████████████████████████████████████████████████████████████████████████████████████████████████████| 176/176 [05:21<00:00,  1.82s/it, loss=0.135]\n"
     ]
    },
    {
     "name": "stdout",
     "output_type": "stream",
     "text": [
      "Epoch 8/8\n",
      "Training loss: 0.1597, Training accuracy: 0.0892\n"
     ]
    },
    {
     "name": "stderr",
     "output_type": "stream",
     "text": [
      "Test Epoch 8/8: 100%|███████████████████████████████████████████████████████████████████████████████████████████████████████████████████████████| 44/44 [00:20<00:00,  2.13it/s, loss=0.169]\n"
     ]
    },
    {
     "name": "stdout",
     "output_type": "stream",
     "text": [
      "Test loss: 0.1654, Test accuracy: 0.0712\n",
      "Testing seed: 199\n"
     ]
    },
    {
     "name": "stderr",
     "output_type": "stream",
     "text": [
      "Map: 100%|█████████████████████████████████████████████████████████████████████████████████████████████████████████████████████████████████████| 2804/2804 [00:01<00:00, 1550.03 examples/s]\n",
      "Map: 100%|███████████████████████████████████████████████████████████████████████████████████████████████████████████████████████████████████████| 702/702 [00:00<00:00, 1556.81 examples/s]\n",
      "Some weights of XLMRobertaForSequenceClassification were not initialized from the model checkpoint at xlm-roberta-base and are newly initialized: ['classifier.dense.bias', 'classifier.dense.weight', 'classifier.out_proj.bias', 'classifier.out_proj.weight']\n",
      "You should probably TRAIN this model on a down-stream task to be able to use it for predictions and inference.\n",
      "Training Epoch 1/8: 100%|█████████████████████████████████████████████████████████████████████████████████████████████████████████████████████| 176/176 [05:21<00:00,  1.83s/it, loss=0.134]\n"
     ]
    },
    {
     "name": "stdout",
     "output_type": "stream",
     "text": [
      "Epoch 1/8\n",
      "Training loss: 0.2281, Training accuracy: 0.0524\n"
     ]
    },
    {
     "name": "stderr",
     "output_type": "stream",
     "text": [
      "Test Epoch 1/8: 100%|███████████████████████████████████████████████████████████████████████████████████████████████████████████████████████████| 44/44 [00:20<00:00,  2.12it/s, loss=0.167]\n"
     ]
    },
    {
     "name": "stdout",
     "output_type": "stream",
     "text": [
      "Test loss: 0.1791, Test accuracy: 0.0000\n"
     ]
    },
    {
     "name": "stderr",
     "output_type": "stream",
     "text": [
      "Training Epoch 2/8: 100%|█████████████████████████████████████████████████████████████████████████████████████████████████████████████████████| 176/176 [05:21<00:00,  1.82s/it, loss=0.168]\n"
     ]
    },
    {
     "name": "stdout",
     "output_type": "stream",
     "text": [
      "Epoch 2/8\n",
      "Training loss: 0.1768, Training accuracy: 0.0835\n"
     ]
    },
    {
     "name": "stderr",
     "output_type": "stream",
     "text": [
      "Test Epoch 2/8: 100%|███████████████████████████████████████████████████████████████████████████████████████████████████████████████████████████| 44/44 [00:20<00:00,  2.12it/s, loss=0.172]\n"
     ]
    },
    {
     "name": "stdout",
     "output_type": "stream",
     "text": [
      "Test loss: 0.1780, Test accuracy: 0.0000\n"
     ]
    },
    {
     "name": "stderr",
     "output_type": "stream",
     "text": [
      "Training Epoch 3/8: 100%|██████████████████████████████████████████████████████████████████████████████████████████████████████████████████████| 176/176 [05:21<00:00,  1.83s/it, loss=0.16]\n"
     ]
    },
    {
     "name": "stdout",
     "output_type": "stream",
     "text": [
      "Epoch 3/8\n",
      "Training loss: 0.1741, Training accuracy: 0.0738\n"
     ]
    },
    {
     "name": "stderr",
     "output_type": "stream",
     "text": [
      "Test Epoch 3/8: 100%|███████████████████████████████████████████████████████████████████████████████████████████████████████████████████████████| 44/44 [00:20<00:00,  2.12it/s, loss=0.159]\n"
     ]
    },
    {
     "name": "stdout",
     "output_type": "stream",
     "text": [
      "Test loss: 0.1744, Test accuracy: 0.0598\n"
     ]
    },
    {
     "name": "stderr",
     "output_type": "stream",
     "text": [
      "Training Epoch 4/8: 100%|█████████████████████████████████████████████████████████████████████████████████████████████████████████████████████| 176/176 [05:21<00:00,  1.83s/it, loss=0.129]\n"
     ]
    },
    {
     "name": "stdout",
     "output_type": "stream",
     "text": [
      "Epoch 4/8\n",
      "Training loss: 0.1703, Training accuracy: 0.0802\n"
     ]
    },
    {
     "name": "stderr",
     "output_type": "stream",
     "text": [
      "Test Epoch 4/8: 100%|███████████████████████████████████████████████████████████████████████████████████████████████████████████████████████████| 44/44 [00:20<00:00,  2.12it/s, loss=0.165]\n"
     ]
    },
    {
     "name": "stdout",
     "output_type": "stream",
     "text": [
      "Test loss: 0.1709, Test accuracy: 0.0285\n"
     ]
    },
    {
     "name": "stderr",
     "output_type": "stream",
     "text": [
      "Training Epoch 5/8: 100%|█████████████████████████████████████████████████████████████████████████████████████████████████████████████████████| 176/176 [05:21<00:00,  1.82s/it, loss=0.209]\n"
     ]
    },
    {
     "name": "stdout",
     "output_type": "stream",
     "text": [
      "Epoch 5/8\n",
      "Training loss: 0.1672, Training accuracy: 0.0745\n"
     ]
    },
    {
     "name": "stderr",
     "output_type": "stream",
     "text": [
      "Test Epoch 5/8: 100%|████████████████████████████████████████████████████████████████████████████████████████████████████████████████████████████| 44/44 [00:20<00:00,  2.12it/s, loss=0.16]\n"
     ]
    },
    {
     "name": "stdout",
     "output_type": "stream",
     "text": [
      "Test loss: 0.1674, Test accuracy: 0.0256\n"
     ]
    },
    {
     "name": "stderr",
     "output_type": "stream",
     "text": [
      "Training Epoch 6/8: 100%|█████████████████████████████████████████████████████████████████████████████████████████████████████████████████████| 176/176 [05:21<00:00,  1.83s/it, loss=0.105]\n"
     ]
    },
    {
     "name": "stdout",
     "output_type": "stream",
     "text": [
      "Epoch 6/8\n",
      "Training loss: 0.1644, Training accuracy: 0.0838\n"
     ]
    },
    {
     "name": "stderr",
     "output_type": "stream",
     "text": [
      "Test Epoch 6/8: 100%|███████████████████████████████████████████████████████████████████████████████████████████████████████████████████████████| 44/44 [00:20<00:00,  2.12it/s, loss=0.167]\n"
     ]
    },
    {
     "name": "stdout",
     "output_type": "stream",
     "text": [
      "Test loss: 0.1708, Test accuracy: 0.0613\n"
     ]
    },
    {
     "name": "stderr",
     "output_type": "stream",
     "text": [
      "Training Epoch 7/8: 100%|█████████████████████████████████████████████████████████████████████████████████████████████████████████████████████| 176/176 [05:21<00:00,  1.83s/it, loss=0.155]\n"
     ]
    },
    {
     "name": "stdout",
     "output_type": "stream",
     "text": [
      "Epoch 7/8\n",
      "Training loss: 0.1650, Training accuracy: 0.0831\n"
     ]
    },
    {
     "name": "stderr",
     "output_type": "stream",
     "text": [
      "Test Epoch 7/8: 100%|███████████████████████████████████████████████████████████████████████████████████████████████████████████████████████████| 44/44 [00:20<00:00,  2.12it/s, loss=0.171]\n"
     ]
    },
    {
     "name": "stdout",
     "output_type": "stream",
     "text": [
      "Test loss: 0.1760, Test accuracy: 0.0698\n"
     ]
    },
    {
     "name": "stderr",
     "output_type": "stream",
     "text": [
      "Training Epoch 8/8: 100%|█████████████████████████████████████████████████████████████████████████████████████████████████████████████████████| 176/176 [05:21<00:00,  1.82s/it, loss=0.176]\n"
     ]
    },
    {
     "name": "stdout",
     "output_type": "stream",
     "text": [
      "Epoch 8/8\n",
      "Training loss: 0.1659, Training accuracy: 0.0824\n"
     ]
    },
    {
     "name": "stderr",
     "output_type": "stream",
     "text": [
      "Test Epoch 8/8: 100%|████████████████████████████████████████████████████████████████████████████████████████████████████████████████████████████| 44/44 [00:20<00:00,  2.12it/s, loss=0.18]\n"
     ]
    },
    {
     "name": "stdout",
     "output_type": "stream",
     "text": [
      "Test loss: 0.1684, Test accuracy: 0.0670\n",
      "Testing seed: 33\n"
     ]
    },
    {
     "name": "stderr",
     "output_type": "stream",
     "text": [
      "Map: 100%|█████████████████████████████████████████████████████████████████████████████████████████████████████████████████████████████████████| 2804/2804 [00:01<00:00, 1568.44 examples/s]\n",
      "Map: 100%|███████████████████████████████████████████████████████████████████████████████████████████████████████████████████████████████████████| 702/702 [00:00<00:00, 1531.90 examples/s]\n",
      "Some weights of XLMRobertaForSequenceClassification were not initialized from the model checkpoint at xlm-roberta-base and are newly initialized: ['classifier.dense.bias', 'classifier.dense.weight', 'classifier.out_proj.bias', 'classifier.out_proj.weight']\n",
      "You should probably TRAIN this model on a down-stream task to be able to use it for predictions and inference.\n",
      "Training Epoch 1/8: 100%|█████████████████████████████████████████████████████████████████████████████████████████████████████████████████████| 176/176 [05:21<00:00,  1.82s/it, loss=0.154]\n"
     ]
    },
    {
     "name": "stdout",
     "output_type": "stream",
     "text": [
      "Epoch 1/8\n",
      "Training loss: 0.2270, Training accuracy: 0.0642\n"
     ]
    },
    {
     "name": "stderr",
     "output_type": "stream",
     "text": [
      "Test Epoch 1/8: 100%|███████████████████████████████████████████████████████████████████████████████████████████████████████████████████████████| 44/44 [00:20<00:00,  2.12it/s, loss=0.182]\n"
     ]
    },
    {
     "name": "stdout",
     "output_type": "stream",
     "text": [
      "Test loss: 0.1792, Test accuracy: 0.1937\n"
     ]
    },
    {
     "name": "stderr",
     "output_type": "stream",
     "text": [
      "Training Epoch 2/8: 100%|█████████████████████████████████████████████████████████████████████████████████████████████████████████████████████| 176/176 [05:21<00:00,  1.83s/it, loss=0.134]\n"
     ]
    },
    {
     "name": "stdout",
     "output_type": "stream",
     "text": [
      "Epoch 2/8\n",
      "Training loss: 0.1765, Training accuracy: 0.0870\n"
     ]
    },
    {
     "name": "stderr",
     "output_type": "stream",
     "text": [
      "Test Epoch 2/8: 100%|███████████████████████████████████████████████████████████████████████████████████████████████████████████████████████████| 44/44 [00:20<00:00,  2.12it/s, loss=0.191]\n"
     ]
    },
    {
     "name": "stdout",
     "output_type": "stream",
     "text": [
      "Test loss: 0.1777, Test accuracy: 0.0000\n"
     ]
    },
    {
     "name": "stderr",
     "output_type": "stream",
     "text": [
      "Training Epoch 3/8: 100%|██████████████████████████████████████████████████████████████████████████████████████████████████████████████████████| 176/176 [05:21<00:00,  1.83s/it, loss=0.15]\n"
     ]
    },
    {
     "name": "stdout",
     "output_type": "stream",
     "text": [
      "Epoch 3/8\n",
      "Training loss: 0.1743, Training accuracy: 0.0710\n"
     ]
    },
    {
     "name": "stderr",
     "output_type": "stream",
     "text": [
      "Test Epoch 3/8: 100%|███████████████████████████████████████████████████████████████████████████████████████████████████████████████████████████| 44/44 [00:20<00:00,  2.12it/s, loss=0.208]\n"
     ]
    },
    {
     "name": "stdout",
     "output_type": "stream",
     "text": [
      "Test loss: 0.1746, Test accuracy: 0.0670\n"
     ]
    },
    {
     "name": "stderr",
     "output_type": "stream",
     "text": [
      "Training Epoch 4/8: 100%|█████████████████████████████████████████████████████████████████████████████████████████████████████████████████████| 176/176 [05:21<00:00,  1.83s/it, loss=0.101]\n"
     ]
    },
    {
     "name": "stdout",
     "output_type": "stream",
     "text": [
      "Epoch 4/8\n",
      "Training loss: 0.1705, Training accuracy: 0.0681\n"
     ]
    },
    {
     "name": "stderr",
     "output_type": "stream",
     "text": [
      "Test Epoch 4/8: 100%|███████████████████████████████████████████████████████████████████████████████████████████████████████████████████████████| 44/44 [00:20<00:00,  2.12it/s, loss=0.162]\n"
     ]
    },
    {
     "name": "stdout",
     "output_type": "stream",
     "text": [
      "Test loss: 0.1693, Test accuracy: 0.0556\n"
     ]
    },
    {
     "name": "stderr",
     "output_type": "stream",
     "text": [
      "Training Epoch 5/8: 100%|█████████████████████████████████████████████████████████████████████████████████████████████████████████████████████| 176/176 [05:21<00:00,  1.83s/it, loss=0.188]\n"
     ]
    },
    {
     "name": "stdout",
     "output_type": "stream",
     "text": [
      "Epoch 5/8\n",
      "Training loss: 0.1663, Training accuracy: 0.0685\n"
     ]
    },
    {
     "name": "stderr",
     "output_type": "stream",
     "text": [
      "Test Epoch 5/8: 100%|███████████████████████████████████████████████████████████████████████████████████████████████████████████████████████████| 44/44 [00:20<00:00,  2.12it/s, loss=0.175]\n"
     ]
    },
    {
     "name": "stdout",
     "output_type": "stream",
     "text": [
      "Test loss: 0.1672, Test accuracy: 0.0726\n"
     ]
    },
    {
     "name": "stderr",
     "output_type": "stream",
     "text": [
      "Training Epoch 6/8: 100%|█████████████████████████████████████████████████████████████████████████████████████████████████████████████████████| 176/176 [05:21<00:00,  1.83s/it, loss=0.168]\n"
     ]
    },
    {
     "name": "stdout",
     "output_type": "stream",
     "text": [
      "Epoch 6/8\n",
      "Training loss: 0.1632, Training accuracy: 0.1052\n"
     ]
    },
    {
     "name": "stderr",
     "output_type": "stream",
     "text": [
      "Test Epoch 6/8: 100%|███████████████████████████████████████████████████████████████████████████████████████████████████████████████████████████| 44/44 [00:20<00:00,  2.12it/s, loss=0.167]\n"
     ]
    },
    {
     "name": "stdout",
     "output_type": "stream",
     "text": [
      "Test loss: 0.1650, Test accuracy: 0.0969\n"
     ]
    },
    {
     "name": "stderr",
     "output_type": "stream",
     "text": [
      "Training Epoch 7/8: 100%|█████████████████████████████████████████████████████████████████████████████████████████████████████████████████████| 176/176 [05:21<00:00,  1.83s/it, loss=0.186]\n"
     ]
    },
    {
     "name": "stdout",
     "output_type": "stream",
     "text": [
      "Epoch 7/8\n",
      "Training loss: 0.1589, Training accuracy: 0.0870\n"
     ]
    },
    {
     "name": "stderr",
     "output_type": "stream",
     "text": [
      "Test Epoch 7/8: 100%|███████████████████████████████████████████████████████████████████████████████████████████████████████████████████████████| 44/44 [00:20<00:00,  2.12it/s, loss=0.157]\n"
     ]
    },
    {
     "name": "stdout",
     "output_type": "stream",
     "text": [
      "Test loss: 0.1666, Test accuracy: 0.0670\n"
     ]
    },
    {
     "name": "stderr",
     "output_type": "stream",
     "text": [
      "Training Epoch 8/8: 100%|█████████████████████████████████████████████████████████████████████████████████████████████████████████████████████| 176/176 [05:21<00:00,  1.83s/it, loss=0.152]\n"
     ]
    },
    {
     "name": "stdout",
     "output_type": "stream",
     "text": [
      "Epoch 8/8\n",
      "Training loss: 0.1560, Training accuracy: 0.1016\n"
     ]
    },
    {
     "name": "stderr",
     "output_type": "stream",
     "text": [
      "Test Epoch 8/8: 100%|███████████████████████████████████████████████████████████████████████████████████████████████████████████████████████████| 44/44 [00:20<00:00,  2.12it/s, loss=0.153]\n"
     ]
    },
    {
     "name": "stdout",
     "output_type": "stream",
     "text": [
      "Test loss: 0.1639, Test accuracy: 0.0556\n",
      "Testing seed: 85\n"
     ]
    },
    {
     "name": "stderr",
     "output_type": "stream",
     "text": [
      "Map: 100%|█████████████████████████████████████████████████████████████████████████████████████████████████████████████████████████████████████| 2804/2804 [00:01<00:00, 1540.46 examples/s]\n",
      "Map: 100%|███████████████████████████████████████████████████████████████████████████████████████████████████████████████████████████████████████| 702/702 [00:00<00:00, 1608.06 examples/s]\n",
      "Some weights of XLMRobertaForSequenceClassification were not initialized from the model checkpoint at xlm-roberta-base and are newly initialized: ['classifier.dense.bias', 'classifier.dense.weight', 'classifier.out_proj.bias', 'classifier.out_proj.weight']\n",
      "You should probably TRAIN this model on a down-stream task to be able to use it for predictions and inference.\n",
      "Training Epoch 1/8: 100%|█████████████████████████████████████████████████████████████████████████████████████████████████████████████████████| 176/176 [05:21<00:00,  1.83s/it, loss=0.132]\n"
     ]
    },
    {
     "name": "stdout",
     "output_type": "stream",
     "text": [
      "Epoch 1/8\n",
      "Training loss: 0.2242, Training accuracy: 0.0638\n"
     ]
    },
    {
     "name": "stderr",
     "output_type": "stream",
     "text": [
      "Test Epoch 1/8: 100%|███████████████████████████████████████████████████████████████████████████████████████████████████████████████████████████| 44/44 [00:20<00:00,  2.12it/s, loss=0.191]\n"
     ]
    },
    {
     "name": "stdout",
     "output_type": "stream",
     "text": [
      "Test loss: 0.1789, Test accuracy: 0.1937\n"
     ]
    },
    {
     "name": "stderr",
     "output_type": "stream",
     "text": [
      "Training Epoch 2/8: 100%|█████████████████████████████████████████████████████████████████████████████████████████████████████████████████████| 176/176 [05:21<00:00,  1.82s/it, loss=0.151]\n"
     ]
    },
    {
     "name": "stdout",
     "output_type": "stream",
     "text": [
      "Epoch 2/8\n",
      "Training loss: 0.1763, Training accuracy: 0.0963\n"
     ]
    },
    {
     "name": "stderr",
     "output_type": "stream",
     "text": [
      "Test Epoch 2/8: 100%|████████████████████████████████████████████████████████████████████████████████████████████████████████████████████████████| 44/44 [00:20<00:00,  2.12it/s, loss=0.19]\n"
     ]
    },
    {
     "name": "stdout",
     "output_type": "stream",
     "text": [
      "Test loss: 0.1768, Test accuracy: 0.1382\n"
     ]
    },
    {
     "name": "stderr",
     "output_type": "stream",
     "text": [
      "Training Epoch 3/8: 100%|█████████████████████████████████████████████████████████████████████████████████████████████████████████████████████| 176/176 [05:21<00:00,  1.83s/it, loss=0.147]\n"
     ]
    },
    {
     "name": "stdout",
     "output_type": "stream",
     "text": [
      "Epoch 3/8\n",
      "Training loss: 0.1732, Training accuracy: 0.0578\n"
     ]
    },
    {
     "name": "stderr",
     "output_type": "stream",
     "text": [
      "Test Epoch 3/8: 100%|███████████████████████████████████████████████████████████████████████████████████████████████████████████████████████████| 44/44 [00:20<00:00,  2.12it/s, loss=0.169]\n"
     ]
    },
    {
     "name": "stdout",
     "output_type": "stream",
     "text": [
      "Test loss: 0.1732, Test accuracy: 0.0171\n"
     ]
    },
    {
     "name": "stderr",
     "output_type": "stream",
     "text": [
      "Training Epoch 4/8: 100%|█████████████████████████████████████████████████████████████████████████████████████████████████████████████████████| 176/176 [05:21<00:00,  1.82s/it, loss=0.194]\n"
     ]
    },
    {
     "name": "stdout",
     "output_type": "stream",
     "text": [
      "Epoch 4/8\n",
      "Training loss: 0.1690, Training accuracy: 0.0802\n"
     ]
    },
    {
     "name": "stderr",
     "output_type": "stream",
     "text": [
      "Test Epoch 4/8: 100%|███████████████████████████████████████████████████████████████████████████████████████████████████████████████████████████| 44/44 [00:20<00:00,  2.12it/s, loss=0.168]\n"
     ]
    },
    {
     "name": "stdout",
     "output_type": "stream",
     "text": [
      "Test loss: 0.1678, Test accuracy: 0.1382\n"
     ]
    },
    {
     "name": "stderr",
     "output_type": "stream",
     "text": [
      "Training Epoch 5/8: 100%|█████████████████████████████████████████████████████████████████████████████████████████████████████████████████████| 176/176 [05:21<00:00,  1.83s/it, loss=0.199]\n"
     ]
    },
    {
     "name": "stdout",
     "output_type": "stream",
     "text": [
      "Epoch 5/8\n",
      "Training loss: 0.1647, Training accuracy: 0.0792\n"
     ]
    },
    {
     "name": "stderr",
     "output_type": "stream",
     "text": [
      "Test Epoch 5/8: 100%|███████████████████████████████████████████████████████████████████████████████████████████████████████████████████████████| 44/44 [00:20<00:00,  2.12it/s, loss=0.178]\n"
     ]
    },
    {
     "name": "stdout",
     "output_type": "stream",
     "text": [
      "Test loss: 0.1661, Test accuracy: 0.0983\n"
     ]
    },
    {
     "name": "stderr",
     "output_type": "stream",
     "text": [
      "Training Epoch 6/8: 100%|█████████████████████████████████████████████████████████████████████████████████████████████████████████████████████| 176/176 [05:21<00:00,  1.83s/it, loss=0.231]\n"
     ]
    },
    {
     "name": "stdout",
     "output_type": "stream",
     "text": [
      "Epoch 6/8\n",
      "Training loss: 0.1603, Training accuracy: 0.0881\n"
     ]
    },
    {
     "name": "stderr",
     "output_type": "stream",
     "text": [
      "Test Epoch 6/8: 100%|███████████████████████████████████████████████████████████████████████████████████████████████████████████████████████████| 44/44 [00:20<00:00,  2.12it/s, loss=0.156]\n"
     ]
    },
    {
     "name": "stdout",
     "output_type": "stream",
     "text": [
      "Test loss: 0.1642, Test accuracy: 0.0655\n"
     ]
    },
    {
     "name": "stderr",
     "output_type": "stream",
     "text": [
      "Training Epoch 7/8: 100%|█████████████████████████████████████████████████████████████████████████████████████████████████████████████████████| 176/176 [05:20<00:00,  1.82s/it, loss=0.185]\n"
     ]
    },
    {
     "name": "stdout",
     "output_type": "stream",
     "text": [
      "Epoch 7/8\n",
      "Training loss: 0.1563, Training accuracy: 0.0924\n"
     ]
    },
    {
     "name": "stderr",
     "output_type": "stream",
     "text": [
      "Test Epoch 7/8: 100%|███████████████████████████████████████████████████████████████████████████████████████████████████████████████████████████| 44/44 [00:20<00:00,  2.12it/s, loss=0.186]\n"
     ]
    },
    {
     "name": "stdout",
     "output_type": "stream",
     "text": [
      "Test loss: 0.1639, Test accuracy: 0.1040\n"
     ]
    },
    {
     "name": "stderr",
     "output_type": "stream",
     "text": [
      "Training Epoch 8/8: 100%|█████████████████████████████████████████████████████████████████████████████████████████████████████████████████████| 176/176 [05:21<00:00,  1.83s/it, loss=0.181]\n"
     ]
    },
    {
     "name": "stdout",
     "output_type": "stream",
     "text": [
      "Epoch 8/8\n",
      "Training loss: 0.1534, Training accuracy: 0.0984\n"
     ]
    },
    {
     "name": "stderr",
     "output_type": "stream",
     "text": [
      "Test Epoch 8/8: 100%|███████████████████████████████████████████████████████████████████████████████████████████████████████████████████████████| 44/44 [00:20<00:00,  2.12it/s, loss=0.145]\n"
     ]
    },
    {
     "name": "stdout",
     "output_type": "stream",
     "text": [
      "Test loss: 0.1636, Test accuracy: 0.1111\n",
      "Testing seed: 102\n"
     ]
    },
    {
     "name": "stderr",
     "output_type": "stream",
     "text": [
      "Map: 100%|█████████████████████████████████████████████████████████████████████████████████████████████████████████████████████████████████████| 2804/2804 [00:01<00:00, 1555.34 examples/s]\n",
      "Map: 100%|███████████████████████████████████████████████████████████████████████████████████████████████████████████████████████████████████████| 702/702 [00:00<00:00, 1563.13 examples/s]\n",
      "Some weights of XLMRobertaForSequenceClassification were not initialized from the model checkpoint at xlm-roberta-base and are newly initialized: ['classifier.dense.bias', 'classifier.dense.weight', 'classifier.out_proj.bias', 'classifier.out_proj.weight']\n",
      "You should probably TRAIN this model on a down-stream task to be able to use it for predictions and inference.\n",
      "Training Epoch 1/8: 100%|█████████████████████████████████████████████████████████████████████████████████████████████████████████████████████| 176/176 [05:21<00:00,  1.83s/it, loss=0.193]\n"
     ]
    },
    {
     "name": "stdout",
     "output_type": "stream",
     "text": [
      "Epoch 1/8\n",
      "Training loss: 0.2292, Training accuracy: 0.0460\n"
     ]
    },
    {
     "name": "stderr",
     "output_type": "stream",
     "text": [
      "Test Epoch 1/8: 100%|███████████████████████████████████████████████████████████████████████████████████████████████████████████████████████████| 44/44 [00:20<00:00,  2.12it/s, loss=0.177]\n"
     ]
    },
    {
     "name": "stdout",
     "output_type": "stream",
     "text": [
      "Test loss: 0.1785, Test accuracy: 0.1937\n"
     ]
    },
    {
     "name": "stderr",
     "output_type": "stream",
     "text": [
      "Training Epoch 2/8: 100%|█████████████████████████████████████████████████████████████████████████████████████████████████████████████████████| 176/176 [05:21<00:00,  1.83s/it, loss=0.184]\n"
     ]
    },
    {
     "name": "stdout",
     "output_type": "stream",
     "text": [
      "Epoch 2/8\n",
      "Training loss: 0.1767, Training accuracy: 0.0678\n"
     ]
    },
    {
     "name": "stderr",
     "output_type": "stream",
     "text": [
      "Test Epoch 2/8: 100%|███████████████████████████████████████████████████████████████████████████████████████████████████████████████████████████| 44/44 [00:20<00:00,  2.12it/s, loss=0.214]\n"
     ]
    },
    {
     "name": "stdout",
     "output_type": "stream",
     "text": [
      "Test loss: 0.1765, Test accuracy: 0.1880\n"
     ]
    },
    {
     "name": "stderr",
     "output_type": "stream",
     "text": [
      "Training Epoch 3/8: 100%|██████████████████████████████████████████████████████████████████████████████████████████████████████████████████████| 176/176 [05:21<00:00,  1.83s/it, loss=0.14]\n"
     ]
    },
    {
     "name": "stdout",
     "output_type": "stream",
     "text": [
      "Epoch 3/8\n",
      "Training loss: 0.1751, Training accuracy: 0.0752\n"
     ]
    },
    {
     "name": "stderr",
     "output_type": "stream",
     "text": [
      "Test Epoch 3/8: 100%|███████████████████████████████████████████████████████████████████████████████████████████████████████████████████████████| 44/44 [00:20<00:00,  2.12it/s, loss=0.171]\n"
     ]
    },
    {
     "name": "stdout",
     "output_type": "stream",
     "text": [
      "Test loss: 0.1779, Test accuracy: 0.0000\n"
     ]
    },
    {
     "name": "stderr",
     "output_type": "stream",
     "text": [
      "Training Epoch 5/8: 100%|█████████████████████████████████████████████████████████████████████████████████████████████████████████████████████| 176/176 [05:20<00:00,  1.82s/it, loss=0.173]\n"
     ]
    },
    {
     "name": "stdout",
     "output_type": "stream",
     "text": [
      "Epoch 5/8\n",
      "Training loss: 0.1736, Training accuracy: 0.0453\n"
     ]
    },
    {
     "name": "stderr",
     "output_type": "stream",
     "text": [
      "Test Epoch 5/8: 100%|███████████████████████████████████████████████████████████████████████████████████████████████████████████████████████████| 44/44 [00:20<00:00,  2.12it/s, loss=0.183]\n"
     ]
    },
    {
     "name": "stdout",
     "output_type": "stream",
     "text": [
      "Test loss: 0.1769, Test accuracy: 0.0242\n"
     ]
    },
    {
     "name": "stderr",
     "output_type": "stream",
     "text": [
      "Training Epoch 6/8: 100%|██████████████████████████████████████████████████████████████████████████████████████████████████████████████████████| 176/176 [05:21<00:00,  1.83s/it, loss=0.18]\n"
     ]
    },
    {
     "name": "stdout",
     "output_type": "stream",
     "text": [
      "Epoch 6/8\n",
      "Training loss: 0.1732, Training accuracy: 0.0456\n"
     ]
    },
    {
     "name": "stderr",
     "output_type": "stream",
     "text": [
      "Test Epoch 6/8: 100%|███████████████████████████████████████████████████████████████████████████████████████████████████████████████████████████| 44/44 [00:20<00:00,  2.12it/s, loss=0.208]\n"
     ]
    },
    {
     "name": "stdout",
     "output_type": "stream",
     "text": [
      "Test loss: 0.1759, Test accuracy: 0.0214\n"
     ]
    },
    {
     "name": "stderr",
     "output_type": "stream",
     "text": [
      "Training Epoch 7/8: 100%|█████████████████████████████████████████████████████████████████████████████████████████████████████████████████████| 176/176 [05:21<00:00,  1.82s/it, loss=0.147]\n"
     ]
    },
    {
     "name": "stdout",
     "output_type": "stream",
     "text": [
      "Epoch 7/8\n",
      "Training loss: 0.1725, Training accuracy: 0.0417\n"
     ]
    },
    {
     "name": "stderr",
     "output_type": "stream",
     "text": [
      "Test Epoch 7/8: 100%|███████████████████████████████████████████████████████████████████████████████████████████████████████████████████████████| 44/44 [00:20<00:00,  2.12it/s, loss=0.192]\n"
     ]
    },
    {
     "name": "stdout",
     "output_type": "stream",
     "text": [
      "Test loss: 0.1758, Test accuracy: 0.1097\n"
     ]
    },
    {
     "name": "stderr",
     "output_type": "stream",
     "text": [
      "Training Epoch 8/8: 100%|█████████████████████████████████████████████████████████████████████████████████████████████████████████████████████| 176/176 [05:21<00:00,  1.83s/it, loss=0.169]\n"
     ]
    },
    {
     "name": "stdout",
     "output_type": "stream",
     "text": [
      "Epoch 8/8\n",
      "Training loss: 0.1725, Training accuracy: 0.0317\n"
     ]
    },
    {
     "name": "stderr",
     "output_type": "stream",
     "text": [
      "Test Epoch 8/8: 100%|███████████████████████████████████████████████████████████████████████████████████████████████████████████████████████████| 44/44 [00:20<00:00,  2.12it/s, loss=0.146]\n"
     ]
    },
    {
     "name": "stdout",
     "output_type": "stream",
     "text": [
      "Test loss: 0.1758, Test accuracy: 0.0883\n"
     ]
    }
   ],
   "source": [
    "seeds = [1,11,42,199,33,85,102]\n",
    "import random\n",
    "import os\n",
    "#os.environ[\"PYTORCH_CUDA_ALLOC_CONF\"] = \"expandable_segments:True\"\n",
    "for seed in seeds:\n",
    "    print(f\"Testing seed: {seed}\")\n",
    "    set_seed_everywhere(seed)\n",
    "\n",
    "    X_train, X_test, y_train, y_test,lang_train,lang_test = train_test_split(\n",
    "        X, y,lang, test_size=0.2, random_state=42\n",
    "    )\n",
    "\n",
    "    train_data = pd.DataFrame({'text': X_train, 'label': y_train})\n",
    "    test_data = pd.DataFrame({'text': X_test, 'label': y_test})\n",
    "    \n",
    "    train_dataset = Dataset.from_pandas(train_data)\n",
    "    test_dataset = Dataset.from_pandas(test_data)\n",
    "\n",
    "    train_dataset = train_dataset.map(preprocess_function, batched=True)\n",
    "    test_dataset = test_dataset.map(preprocess_function, batched=True)\n",
    "\n",
    "    train_dataset.set_format(type='torch', columns=['input_ids', 'attention_mask', 'label'])\n",
    "    test_dataset.set_format(type='torch', columns=['input_ids', 'attention_mask', 'label'])\n",
    "\n",
    "    \n",
    "    \n",
    "    train_dataloader = DataLoader(train_dataset, batch_size=16, shuffle=True)\n",
    "    test_dataloader = DataLoader(test_dataset, batch_size=16,shuffle=True)\n",
    "    model = XLMRobertaForSequenceClassification.from_pretrained(\"xlm-roberta-base\", num_labels=22,problem_type=\"multi_label_classification\").to(device)\n",
    "    #tokenizer = XLMRobertaTokenizer.from_pretrained(\"xlm-roberta-base\")\n",
    "    optimizer = AdamW(model.parameters(), lr=4e-5)\n",
    "    num_epochs = 8\n",
    "    debug = 0\n",
    "\n",
    "    del train_dataset \n",
    "    del test_dataset\n",
    "    del train_data\n",
    "    del test_data\n",
    "    \n",
    "    for epoch in range(num_epochs):\n",
    "        # Training phase\n",
    "        model.train()\n",
    "        total_loss = 0\n",
    "        correct_predictions = 0\n",
    "        total_predictions = 0\n",
    "        \n",
    "        # Initialize tqdm progress bar for training\n",
    "        train_progress_bar = tqdm(train_dataloader, desc=f\"Training Epoch {epoch + 1}/{num_epochs}\")\n",
    "        \n",
    "        for batch in train_progress_bar:\n",
    "            optimizer.zero_grad()\n",
    "            input_ids = batch['input_ids'].to(device)\n",
    "            attention_mask = batch['attention_mask'].to(device)\n",
    "            labels = batch['label'].to(device)\n",
    "            \n",
    "            # Forward pass\n",
    "            outputs = model(input_ids=input_ids, attention_mask=attention_mask, labels=labels.float())\n",
    "            loss = outputs.loss\n",
    "            logits = outputs.logits\n",
    "            \n",
    "            # Backward pass and optimization\n",
    "            loss.backward()\n",
    "            optimizer.step()\n",
    "            \n",
    "            total_loss += loss.item()\n",
    "            \n",
    "            # Calculate accuracy\n",
    "            preds = (torch.sigmoid(logits) > 0.15).int()\n",
    "            #print(preds)\n",
    "            correct_predictions += ((preds == labels.int()).all(dim=1)).sum().item()\n",
    "            total_predictions += labels.size(0)\n",
    "            \n",
    "            # Update tqdm description with current loss\n",
    "            train_progress_bar.set_postfix({'loss': loss.item()})\n",
    "        \n",
    "        avg_train_loss = total_loss / len(train_dataloader)\n",
    "        train_accuracy = correct_predictions / total_predictions\n",
    "        \n",
    "        print(f\"Epoch {epoch + 1}/{num_epochs}\")\n",
    "        print(f\"Training loss: {avg_train_loss:.4f}, Training accuracy: {train_accuracy:.4f}\")\n",
    "        \n",
    "        # Test phase\n",
    "        model.eval()\n",
    "        test_loss = 0\n",
    "        correct_test_predictions = 0\n",
    "        total_test_predictions = 0\n",
    "        \n",
    "        # Initialize tqdm progress bar for test\n",
    "        test_progress_bar = tqdm(test_dataloader, desc=f\"Test Epoch {epoch + 1}/{num_epochs}\")\n",
    "        \n",
    "        with torch.no_grad():\n",
    "            for batch in test_progress_bar:\n",
    "                input_ids = batch['input_ids'].to(device)\n",
    "                attention_mask = batch['attention_mask'].to(device)\n",
    "                labels = batch['label'].to(device)\n",
    "                        \n",
    "                # Forward pass\n",
    "                outputs = model(input_ids=input_ids, attention_mask=attention_mask, labels=labels.float())\n",
    "                loss = outputs.loss\n",
    "                logits = outputs.logits\n",
    "                \n",
    "                test_loss += loss.item()\n",
    "                \n",
    "                # Calculate test accuracy\n",
    "                preds = (torch.sigmoid(logits) > 0.15).int()\n",
    "                correct_test_predictions += ((preds == labels.int()).all(dim=1)).sum().item()\n",
    "                total_test_predictions += labels.size(0)\n",
    "                \n",
    "                # Update tqdm description with current loss\n",
    "                test_progress_bar.set_postfix({'loss': loss.item()})\n",
    "        \n",
    "        avg_test_loss = test_loss / len(test_dataloader)\n",
    "        test_accuracy = correct_test_predictions / total_test_predictions\n",
    "        \n",
    "        print(f\"Test loss: {avg_test_loss:.4f}, Test accuracy: {test_accuracy:.4f}\")\n",
    "        if epoch == num_epochs-1:\n",
    "            accuracies_baseline.append(test_accuracy)\n",
    "    del model\n",
    "    del optimizer\n",
    "    \n",
    "    del X_train\n",
    "    del X_test \n",
    "    #del y1_train \n",
    "    #del y1_test \n",
    "    del y_train \n",
    "    del y_test \n",
    "    del loss \n",
    "    del train_dataloader\n",
    "    del test_dataloader\n",
    "    torch.cuda.empty_cache()"
   ]
  },
  {
   "cell_type": "code",
   "execution_count": 16,
   "id": "22d6f822-ffad-42e8-aaea-a347099ae4d0",
   "metadata": {},
   "outputs": [
    {
     "name": "stdout",
     "output_type": "stream",
     "text": [
      "[0.0868945868945869, 0.09259259259259259, 0.07122507122507123, 0.06695156695156695, 0.05555555555555555, 0.1111111111111111, 0.08831908831908832]\n"
     ]
    }
   ],
   "source": [
    "print(accuracies_baseline)"
   ]
  },
  {
   "cell_type": "code",
   "execution_count": 17,
   "id": "f08401d2-3cd4-48e9-b648-b4b04a18bd95",
   "metadata": {},
   "outputs": [],
   "source": [
    "\n",
    "# Open (or create) a file in write mode ('w')\n",
    "with open(\"output2.txt\", \"w\") as file:\n",
    "    # Write each item in the list to the file\n",
    "    for item in accuracies_baseline:\n",
    "        file.write(f\"{item}\\n\")  # Writing each item on a new line"
   ]
  }
 ],
 "metadata": {
  "kernelspec": {
   "display_name": "Python 3 (ipykernel)",
   "language": "python",
   "name": "python3"
  },
  "language_info": {
   "codemirror_mode": {
    "name": "ipython",
    "version": 3
   },
   "file_extension": ".py",
   "mimetype": "text/x-python",
   "name": "python",
   "nbconvert_exporter": "python",
   "pygments_lexer": "ipython3",
   "version": "3.10.4"
  }
 },
 "nbformat": 4,
 "nbformat_minor": 5
}
