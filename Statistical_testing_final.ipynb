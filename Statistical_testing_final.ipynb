{
 "cells": [
  {
   "cell_type": "code",
   "execution_count": 1,
   "id": "9c04cbaf-4980-4094-8f3b-40c37067a610",
   "metadata": {},
   "outputs": [
    {
     "name": "stdout",
     "output_type": "stream",
     "text": [
      "List 1: [0.41025641025641024, 0.3817663817663818, 0.405982905982906, 0.45014245014245013, 0.41595441595441596, 0.3803418803418803, 0.4287749287749288]\n",
      "List 2: [0.10683760683760683, 0.12108262108262108, 0.09259259259259259, 0.04700854700854701, 0.1267806267806268, 0.1737891737891738, 0.0]\n"
     ]
    }
   ],
   "source": [
    "def read_numbers_from_file(filename):\n",
    "    numbers = []\n",
    "    with open(filename, 'r') as file:\n",
    "        for line in file:\n",
    "            # Split the line into numbers (assuming they are space-separated)\n",
    "            numbers.extend(map(float, line.split()))\n",
    "    return numbers\n",
    "\n",
    "# Read numbers from both files\n",
    "list1 = read_numbers_from_file('output.txt')\n",
    "list2 = read_numbers_from_file('output2.txt')\n",
    "\n",
    "# Output the lists\n",
    "print(\"List 1:\", list1)\n",
    "print(\"List 2:\", list2)"
   ]
  },
  {
   "cell_type": "code",
   "execution_count": 2,
   "id": "5d36ffe4-6590-4831-97fe-f6b16dc03013",
   "metadata": {},
   "outputs": [
    {
     "name": "stdout",
     "output_type": "stream",
     "text": [
      "Wilcox  statistic: 0.0\n",
      "P-value: 0.015625\n",
      "The difference between the two lists is statistically significant.\n"
     ]
    }
   ],
   "source": [
    "import scipy.stats as stats\n",
    "stat, p_value = stats.wilcoxon(list1, list2)\n",
    "\n",
    "# Output the results\n",
    "print(f'Wilcox  statistic: {stat}')\n",
    "print(f'P-value: {p_value}')\n",
    "\n",
    "# Interpretation of the result\n",
    "if p_value < 0.05:\n",
    "    print(\"The difference between the two lists is statistically significant.\")\n",
    "else:\n",
    "    print(\"There is no statistically significant difference between the two lists.\")\n"
   ]
  }
 ],
 "metadata": {
  "kernelspec": {
   "display_name": "Python 3 (ipykernel)",
   "language": "python",
   "name": "python3"
  },
  "language_info": {
   "codemirror_mode": {
    "name": "ipython",
    "version": 3
   },
   "file_extension": ".py",
   "mimetype": "text/x-python",
   "name": "python",
   "nbconvert_exporter": "python",
   "pygments_lexer": "ipython3",
   "version": "3.10.4"
  }
 },
 "nbformat": 4,
 "nbformat_minor": 5
}
